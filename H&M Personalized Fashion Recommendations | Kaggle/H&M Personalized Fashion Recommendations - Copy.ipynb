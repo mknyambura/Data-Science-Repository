{
 "cells": [
  {
   "cell_type": "code",
   "execution_count": 1,
   "id": "0315f519",
   "metadata": {},
   "outputs": [],
   "source": [
    "import numpy as np\n",
    "import pandas as pd\n",
    "import seaborn as sns\n",
    "import matplotlib.pyplot as plt\n",
    "\n",
    "%matplotlib inline"
   ]
  },
  {
   "cell_type": "code",
   "execution_count": 2,
   "id": "80184ba8",
   "metadata": {},
   "outputs": [],
   "source": [
    "articles = pd.read_csv('C:/Users/kariu/OneDrive/Desktop/H&M Product Recommendation/articles/articles.csv')\n",
    "customers = pd.read_csv('C:/Users/kariu/OneDrive/Desktop/H&M Product Recommendation/customers/customers.csv')\n",
    "transactions = pd.read_csv('C:/Users/kariu/OneDrive/Desktop/H&M Product Recommendation/transactions_train/transactions_train.csv')"
   ]
  },
  {
   "cell_type": "code",
   "execution_count": 3,
   "id": "e24c6b18",
   "metadata": {},
   "outputs": [
    {
     "data": {
      "text/plain": [
       "article_id                        0\n",
       "product_code                      0\n",
       "prod_name                         0\n",
       "product_type_no                   0\n",
       "product_type_name                 0\n",
       "product_group_name                0\n",
       "graphical_appearance_no           0\n",
       "graphical_appearance_name         0\n",
       "colour_group_code                 0\n",
       "colour_group_name                 0\n",
       "perceived_colour_value_id         0\n",
       "perceived_colour_value_name       0\n",
       "perceived_colour_master_id        0\n",
       "perceived_colour_master_name      0\n",
       "department_no                     0\n",
       "department_name                   0\n",
       "index_code                        0\n",
       "index_name                        0\n",
       "index_group_no                    0\n",
       "index_group_name                  0\n",
       "section_no                        0\n",
       "section_name                      0\n",
       "garment_group_no                  0\n",
       "garment_group_name                0\n",
       "detail_desc                     416\n",
       "dtype: int64"
      ]
     },
     "execution_count": 3,
     "metadata": {},
     "output_type": "execute_result"
    }
   ],
   "source": [
    "articles.isnull().sum()"
   ]
  },
  {
   "cell_type": "code",
   "execution_count": 4,
   "id": "535d49b5",
   "metadata": {},
   "outputs": [
    {
     "data": {
      "text/plain": [
       "t_dat               0\n",
       "customer_id         0\n",
       "article_id          0\n",
       "price               0\n",
       "sales_channel_id    0\n",
       "dtype: int64"
      ]
     },
     "execution_count": 4,
     "metadata": {},
     "output_type": "execute_result"
    }
   ],
   "source": [
    "transactions.isnull().sum()"
   ]
  },
  {
   "cell_type": "markdown",
   "id": "008ecb14",
   "metadata": {},
   "source": [
    "## Articles Analysis"
   ]
  },
  {
   "cell_type": "code",
   "execution_count": 5,
   "id": "aaa06820",
   "metadata": {},
   "outputs": [
    {
     "name": "stdout",
     "output_type": "stream",
     "text": [
      "<class 'pandas.core.frame.DataFrame'>\n",
      "Int64Index: 105542 entries, 0 to 105541\n",
      "Data columns (total 25 columns):\n",
      " #   Column                        Non-Null Count   Dtype \n",
      "---  ------                        --------------   ----- \n",
      " 0   article_id                    105542 non-null  int64 \n",
      " 1   product_code                  105542 non-null  int64 \n",
      " 2   prod_name                     105542 non-null  object\n",
      " 3   product_type_no               105542 non-null  int64 \n",
      " 4   product_type_name             105542 non-null  object\n",
      " 5   product_group_name            105542 non-null  object\n",
      " 6   graphical_appearance_no       105542 non-null  int64 \n",
      " 7   graphical_appearance_name     105542 non-null  object\n",
      " 8   colour_group_code             105542 non-null  int64 \n",
      " 9   colour_group_name             105542 non-null  object\n",
      " 10  perceived_colour_value_id     105542 non-null  int64 \n",
      " 11  perceived_colour_value_name   105542 non-null  object\n",
      " 12  perceived_colour_master_id    105542 non-null  int64 \n",
      " 13  perceived_colour_master_name  105542 non-null  object\n",
      " 14  department_no                 105542 non-null  int64 \n",
      " 15  department_name               105542 non-null  object\n",
      " 16  index_code                    105542 non-null  object\n",
      " 17  index_name                    105542 non-null  object\n",
      " 18  index_group_no                105542 non-null  int64 \n",
      " 19  index_group_name              105542 non-null  object\n",
      " 20  section_no                    105542 non-null  int64 \n",
      " 21  section_name                  105542 non-null  object\n",
      " 22  garment_group_no              105542 non-null  int64 \n",
      " 23  garment_group_name            105542 non-null  object\n",
      " 24  detail_desc                   105126 non-null  object\n",
      "dtypes: int64(11), object(14)\n",
      "memory usage: 20.9+ MB\n",
      "None\n"
     ]
    }
   ],
   "source": [
    "articles.drop_duplicates(inplace = True)\n",
    "print(articles.info())"
   ]
  },
  {
   "cell_type": "code",
   "execution_count": 6,
   "id": "bc2f439c",
   "metadata": {},
   "outputs": [
    {
     "data": {
      "text/html": [
       "<div>\n",
       "<style scoped>\n",
       "    .dataframe tbody tr th:only-of-type {\n",
       "        vertical-align: middle;\n",
       "    }\n",
       "\n",
       "    .dataframe tbody tr th {\n",
       "        vertical-align: top;\n",
       "    }\n",
       "\n",
       "    .dataframe thead th {\n",
       "        text-align: right;\n",
       "    }\n",
       "</style>\n",
       "<table border=\"1\" class=\"dataframe\">\n",
       "  <thead>\n",
       "    <tr style=\"text-align: right;\">\n",
       "      <th></th>\n",
       "      <th>article_id</th>\n",
       "      <th>product_code</th>\n",
       "      <th>prod_name</th>\n",
       "      <th>product_type_no</th>\n",
       "      <th>product_type_name</th>\n",
       "      <th>product_group_name</th>\n",
       "      <th>graphical_appearance_no</th>\n",
       "      <th>graphical_appearance_name</th>\n",
       "      <th>colour_group_code</th>\n",
       "      <th>colour_group_name</th>\n",
       "      <th>...</th>\n",
       "      <th>department_name</th>\n",
       "      <th>index_code</th>\n",
       "      <th>index_name</th>\n",
       "      <th>index_group_no</th>\n",
       "      <th>index_group_name</th>\n",
       "      <th>section_no</th>\n",
       "      <th>section_name</th>\n",
       "      <th>garment_group_no</th>\n",
       "      <th>garment_group_name</th>\n",
       "      <th>detail_desc</th>\n",
       "    </tr>\n",
       "  </thead>\n",
       "  <tbody>\n",
       "    <tr>\n",
       "      <th>0</th>\n",
       "      <td>108775015</td>\n",
       "      <td>108775</td>\n",
       "      <td>Strap top</td>\n",
       "      <td>253</td>\n",
       "      <td>Vest top</td>\n",
       "      <td>Garment Upper body</td>\n",
       "      <td>1010016</td>\n",
       "      <td>Solid</td>\n",
       "      <td>9</td>\n",
       "      <td>Black</td>\n",
       "      <td>...</td>\n",
       "      <td>Jersey Basic</td>\n",
       "      <td>A</td>\n",
       "      <td>Ladieswear</td>\n",
       "      <td>1</td>\n",
       "      <td>Ladieswear</td>\n",
       "      <td>16</td>\n",
       "      <td>Womens Everyday Basics</td>\n",
       "      <td>1002</td>\n",
       "      <td>Jersey Basic</td>\n",
       "      <td>Jersey top with narrow shoulder straps.</td>\n",
       "    </tr>\n",
       "    <tr>\n",
       "      <th>1</th>\n",
       "      <td>108775044</td>\n",
       "      <td>108775</td>\n",
       "      <td>Strap top</td>\n",
       "      <td>253</td>\n",
       "      <td>Vest top</td>\n",
       "      <td>Garment Upper body</td>\n",
       "      <td>1010016</td>\n",
       "      <td>Solid</td>\n",
       "      <td>10</td>\n",
       "      <td>White</td>\n",
       "      <td>...</td>\n",
       "      <td>Jersey Basic</td>\n",
       "      <td>A</td>\n",
       "      <td>Ladieswear</td>\n",
       "      <td>1</td>\n",
       "      <td>Ladieswear</td>\n",
       "      <td>16</td>\n",
       "      <td>Womens Everyday Basics</td>\n",
       "      <td>1002</td>\n",
       "      <td>Jersey Basic</td>\n",
       "      <td>Jersey top with narrow shoulder straps.</td>\n",
       "    </tr>\n",
       "    <tr>\n",
       "      <th>2</th>\n",
       "      <td>108775051</td>\n",
       "      <td>108775</td>\n",
       "      <td>Strap top (1)</td>\n",
       "      <td>253</td>\n",
       "      <td>Vest top</td>\n",
       "      <td>Garment Upper body</td>\n",
       "      <td>1010017</td>\n",
       "      <td>Stripe</td>\n",
       "      <td>11</td>\n",
       "      <td>Off White</td>\n",
       "      <td>...</td>\n",
       "      <td>Jersey Basic</td>\n",
       "      <td>A</td>\n",
       "      <td>Ladieswear</td>\n",
       "      <td>1</td>\n",
       "      <td>Ladieswear</td>\n",
       "      <td>16</td>\n",
       "      <td>Womens Everyday Basics</td>\n",
       "      <td>1002</td>\n",
       "      <td>Jersey Basic</td>\n",
       "      <td>Jersey top with narrow shoulder straps.</td>\n",
       "    </tr>\n",
       "  </tbody>\n",
       "</table>\n",
       "<p>3 rows × 25 columns</p>\n",
       "</div>"
      ],
      "text/plain": [
       "   article_id  product_code      prod_name  product_type_no product_type_name  \\\n",
       "0   108775015        108775      Strap top              253          Vest top   \n",
       "1   108775044        108775      Strap top              253          Vest top   \n",
       "2   108775051        108775  Strap top (1)              253          Vest top   \n",
       "\n",
       "   product_group_name  graphical_appearance_no graphical_appearance_name  \\\n",
       "0  Garment Upper body                  1010016                     Solid   \n",
       "1  Garment Upper body                  1010016                     Solid   \n",
       "2  Garment Upper body                  1010017                    Stripe   \n",
       "\n",
       "   colour_group_code colour_group_name  ...  department_name index_code  \\\n",
       "0                  9             Black  ...     Jersey Basic          A   \n",
       "1                 10             White  ...     Jersey Basic          A   \n",
       "2                 11         Off White  ...     Jersey Basic          A   \n",
       "\n",
       "   index_name index_group_no  index_group_name section_no  \\\n",
       "0  Ladieswear              1        Ladieswear         16   \n",
       "1  Ladieswear              1        Ladieswear         16   \n",
       "2  Ladieswear              1        Ladieswear         16   \n",
       "\n",
       "             section_name garment_group_no  garment_group_name  \\\n",
       "0  Womens Everyday Basics             1002        Jersey Basic   \n",
       "1  Womens Everyday Basics             1002        Jersey Basic   \n",
       "2  Womens Everyday Basics             1002        Jersey Basic   \n",
       "\n",
       "                               detail_desc  \n",
       "0  Jersey top with narrow shoulder straps.  \n",
       "1  Jersey top with narrow shoulder straps.  \n",
       "2  Jersey top with narrow shoulder straps.  \n",
       "\n",
       "[3 rows x 25 columns]"
      ]
     },
     "execution_count": 6,
     "metadata": {},
     "output_type": "execute_result"
    }
   ],
   "source": [
    "articles.head(3)"
   ]
  },
  {
   "cell_type": "code",
   "execution_count": 7,
   "id": "df0a875c",
   "metadata": {},
   "outputs": [],
   "source": [
    "articles.drop_duplicates(inplace = True)"
   ]
  },
  {
   "cell_type": "code",
   "execution_count": 8,
   "id": "69dbdf22",
   "metadata": {},
   "outputs": [
    {
     "name": "stdout",
     "output_type": "stream",
     "text": [
      "['Dark' 'Light' 'Dusty Light' 'Medium Dusty' 'Bright' 'Medium' 'Undefined'\n",
      " 'Unknown']\n",
      "['Dark' 'Light' 'Dusty Light' 'Medium Dusty' 'Bright' 'Medium' 'Unknown']\n"
     ]
    }
   ],
   "source": [
    "print(articles.perceived_colour_value_name.unique())\n",
    "articles.loc[articles.perceived_colour_value_name == 'Undefined'] = 'Unknown'\n",
    "print(articles.perceived_colour_value_name.unique())"
   ]
  },
  {
   "cell_type": "code",
   "execution_count": 9,
   "id": "3041d228",
   "metadata": {},
   "outputs": [
    {
     "data": {
      "image/png": "[encoded data removed]",
      "text/plain": [
       "<Figure size 1080x720 with 1 Axes>"
      ]
     },
     "metadata": {},
     "output_type": "display_data"
    }
   ],
   "source": [
    "sns.set_style('darkgrid')\n",
    "f, ax = plt.subplots(figsize = (15, 10))\n",
    "ax = sns.histplot(data = articles, x = 'perceived_colour_value_name', color = 'green')\n",
    "ax.set_xlabel('Perceived Colors')\n",
    "ax.set_ylabel('Count by perceived Color')\n",
    "ax.set_title('H&M Number of Articles Per Color Group')\n",
    "plt.show()"
   ]
  },
  {
   "cell_type": "markdown",
   "id": "ea53abcc",
   "metadata": {},
   "source": [
    "###### From the above diagram, majority of H&M products are Dark, followed by Dusty Light and Light"
   ]
  },
  {
   "cell_type": "markdown",
   "id": "6f49c5cf",
   "metadata": {},
   "source": [
    "### Which articles are the best sellers?"
   ]
  },
  {
   "cell_type": "code",
   "execution_count": 10,
   "id": "36246615",
   "metadata": {},
   "outputs": [
    {
     "data": {
      "text/html": [
       "<div>\n",
       "<style scoped>\n",
       "    .dataframe tbody tr th:only-of-type {\n",
       "        vertical-align: middle;\n",
       "    }\n",
       "\n",
       "    .dataframe tbody tr th {\n",
       "        vertical-align: top;\n",
       "    }\n",
       "\n",
       "    .dataframe thead th {\n",
       "        text-align: right;\n",
       "    }\n",
       "</style>\n",
       "<table border=\"1\" class=\"dataframe\">\n",
       "  <thead>\n",
       "    <tr style=\"text-align: right;\">\n",
       "      <th></th>\n",
       "      <th>t_dat</th>\n",
       "      <th>customer_id</th>\n",
       "      <th>price</th>\n",
       "      <th>sales_channel_id</th>\n",
       "    </tr>\n",
       "    <tr>\n",
       "      <th>article_id</th>\n",
       "      <th></th>\n",
       "      <th></th>\n",
       "      <th></th>\n",
       "      <th></th>\n",
       "    </tr>\n",
       "  </thead>\n",
       "  <tbody>\n",
       "    <tr>\n",
       "      <th>706016001</th>\n",
       "      <td>50287</td>\n",
       "      <td>50287</td>\n",
       "      <td>50287</td>\n",
       "      <td>50287</td>\n",
       "    </tr>\n",
       "    <tr>\n",
       "      <th>706016002</th>\n",
       "      <td>35043</td>\n",
       "      <td>35043</td>\n",
       "      <td>35043</td>\n",
       "      <td>35043</td>\n",
       "    </tr>\n",
       "    <tr>\n",
       "      <th>372860001</th>\n",
       "      <td>31718</td>\n",
       "      <td>31718</td>\n",
       "      <td>31718</td>\n",
       "      <td>31718</td>\n",
       "    </tr>\n",
       "    <tr>\n",
       "      <th>610776002</th>\n",
       "      <td>30199</td>\n",
       "      <td>30199</td>\n",
       "      <td>30199</td>\n",
       "      <td>30199</td>\n",
       "    </tr>\n",
       "    <tr>\n",
       "      <th>759871002</th>\n",
       "      <td>26329</td>\n",
       "      <td>26329</td>\n",
       "      <td>26329</td>\n",
       "      <td>26329</td>\n",
       "    </tr>\n",
       "  </tbody>\n",
       "</table>\n",
       "</div>"
      ],
      "text/plain": [
       "            t_dat  customer_id  price  sales_channel_id\n",
       "article_id                                             \n",
       "706016001   50287        50287  50287             50287\n",
       "706016002   35043        35043  35043             35043\n",
       "372860001   31718        31718  31718             31718\n",
       "610776002   30199        30199  30199             30199\n",
       "759871002   26329        26329  26329             26329"
      ]
     },
     "execution_count": 10,
     "metadata": {},
     "output_type": "execute_result"
    }
   ],
   "source": [
    "bestsellers = transactions.groupby('article_id').count().sort_values(by = 'customer_id', ascending = False) \n",
    "bestsellers.head(5)"
   ]
  },
  {
   "cell_type": "code",
   "execution_count": 11,
   "id": "59d5bd0e",
   "metadata": {},
   "outputs": [
    {
     "data": {
      "text/plain": [
       "137.77260273972604"
      ]
     },
     "execution_count": 11,
     "metadata": {},
     "output_type": "execute_result"
    }
   ],
   "source": [
    "50287/365"
   ]
  },
  {
   "cell_type": "code",
   "execution_count": 12,
   "id": "abb24f98",
   "metadata": {},
   "outputs": [
    {
     "data": {
      "text/plain": [
       "72.13424657534246"
      ]
     },
     "execution_count": 12,
     "metadata": {},
     "output_type": "execute_result"
    }
   ],
   "source": [
    "26329/365"
   ]
  },
  {
   "cell_type": "markdown",
   "id": "06bb656b",
   "metadata": {},
   "source": [
    "#### The topseller article has an average of sales have an average sales of ~137 units per day. The bestseller ranked #5 has an average sales of 72 units per day, which is more than half of the sales of the top bestseller"
   ]
  },
  {
   "cell_type": "code",
   "execution_count": 13,
   "id": "68ff313e",
   "metadata": {},
   "outputs": [
    {
     "data": {
      "text/html": [
       "<div>\n",
       "<style scoped>\n",
       "    .dataframe tbody tr th:only-of-type {\n",
       "        vertical-align: middle;\n",
       "    }\n",
       "\n",
       "    .dataframe tbody tr th {\n",
       "        vertical-align: top;\n",
       "    }\n",
       "\n",
       "    .dataframe thead th {\n",
       "        text-align: right;\n",
       "    }\n",
       "</style>\n",
       "<table border=\"1\" class=\"dataframe\">\n",
       "  <thead>\n",
       "    <tr style=\"text-align: right;\">\n",
       "      <th></th>\n",
       "      <th>article_id</th>\n",
       "      <th>product_code</th>\n",
       "      <th>prod_name</th>\n",
       "      <th>product_type_no</th>\n",
       "      <th>product_type_name</th>\n",
       "      <th>product_group_name</th>\n",
       "      <th>graphical_appearance_no</th>\n",
       "      <th>graphical_appearance_name</th>\n",
       "      <th>colour_group_code</th>\n",
       "      <th>colour_group_name</th>\n",
       "      <th>...</th>\n",
       "      <th>index_code</th>\n",
       "      <th>index_name</th>\n",
       "      <th>index_group_no</th>\n",
       "      <th>index_group_name</th>\n",
       "      <th>section_no</th>\n",
       "      <th>section_name</th>\n",
       "      <th>garment_group_no</th>\n",
       "      <th>garment_group_name</th>\n",
       "      <th>detail_desc</th>\n",
       "      <th>total_sales</th>\n",
       "    </tr>\n",
       "  </thead>\n",
       "  <tbody>\n",
       "    <tr>\n",
       "      <th>0</th>\n",
       "      <td>108775015</td>\n",
       "      <td>108775</td>\n",
       "      <td>Strap top</td>\n",
       "      <td>253</td>\n",
       "      <td>Vest top</td>\n",
       "      <td>Garment Upper body</td>\n",
       "      <td>1010016</td>\n",
       "      <td>Solid</td>\n",
       "      <td>9</td>\n",
       "      <td>Black</td>\n",
       "      <td>...</td>\n",
       "      <td>A</td>\n",
       "      <td>Ladieswear</td>\n",
       "      <td>1</td>\n",
       "      <td>Ladieswear</td>\n",
       "      <td>16</td>\n",
       "      <td>Womens Everyday Basics</td>\n",
       "      <td>1002</td>\n",
       "      <td>Jersey Basic</td>\n",
       "      <td>Jersey top with narrow shoulder straps.</td>\n",
       "      <td>10841</td>\n",
       "    </tr>\n",
       "    <tr>\n",
       "      <th>1</th>\n",
       "      <td>108775044</td>\n",
       "      <td>108775</td>\n",
       "      <td>Strap top</td>\n",
       "      <td>253</td>\n",
       "      <td>Vest top</td>\n",
       "      <td>Garment Upper body</td>\n",
       "      <td>1010016</td>\n",
       "      <td>Solid</td>\n",
       "      <td>10</td>\n",
       "      <td>White</td>\n",
       "      <td>...</td>\n",
       "      <td>A</td>\n",
       "      <td>Ladieswear</td>\n",
       "      <td>1</td>\n",
       "      <td>Ladieswear</td>\n",
       "      <td>16</td>\n",
       "      <td>Womens Everyday Basics</td>\n",
       "      <td>1002</td>\n",
       "      <td>Jersey Basic</td>\n",
       "      <td>Jersey top with narrow shoulder straps.</td>\n",
       "      <td>7250</td>\n",
       "    </tr>\n",
       "    <tr>\n",
       "      <th>2</th>\n",
       "      <td>108775051</td>\n",
       "      <td>108775</td>\n",
       "      <td>Strap top (1)</td>\n",
       "      <td>253</td>\n",
       "      <td>Vest top</td>\n",
       "      <td>Garment Upper body</td>\n",
       "      <td>1010017</td>\n",
       "      <td>Stripe</td>\n",
       "      <td>11</td>\n",
       "      <td>Off White</td>\n",
       "      <td>...</td>\n",
       "      <td>A</td>\n",
       "      <td>Ladieswear</td>\n",
       "      <td>1</td>\n",
       "      <td>Ladieswear</td>\n",
       "      <td>16</td>\n",
       "      <td>Womens Everyday Basics</td>\n",
       "      <td>1002</td>\n",
       "      <td>Jersey Basic</td>\n",
       "      <td>Jersey top with narrow shoulder straps.</td>\n",
       "      <td>215</td>\n",
       "    </tr>\n",
       "    <tr>\n",
       "      <th>3</th>\n",
       "      <td>110065001</td>\n",
       "      <td>110065</td>\n",
       "      <td>OP T-shirt (Idro)</td>\n",
       "      <td>306</td>\n",
       "      <td>Bra</td>\n",
       "      <td>Underwear</td>\n",
       "      <td>1010016</td>\n",
       "      <td>Solid</td>\n",
       "      <td>9</td>\n",
       "      <td>Black</td>\n",
       "      <td>...</td>\n",
       "      <td>B</td>\n",
       "      <td>Lingeries/Tights</td>\n",
       "      <td>1</td>\n",
       "      <td>Ladieswear</td>\n",
       "      <td>61</td>\n",
       "      <td>Womens Lingerie</td>\n",
       "      <td>1017</td>\n",
       "      <td>Under-, Nightwear</td>\n",
       "      <td>Microfibre T-shirt bra with underwired, moulde...</td>\n",
       "      <td>1044</td>\n",
       "    </tr>\n",
       "    <tr>\n",
       "      <th>4</th>\n",
       "      <td>110065002</td>\n",
       "      <td>110065</td>\n",
       "      <td>OP T-shirt (Idro)</td>\n",
       "      <td>306</td>\n",
       "      <td>Bra</td>\n",
       "      <td>Underwear</td>\n",
       "      <td>1010016</td>\n",
       "      <td>Solid</td>\n",
       "      <td>10</td>\n",
       "      <td>White</td>\n",
       "      <td>...</td>\n",
       "      <td>B</td>\n",
       "      <td>Lingeries/Tights</td>\n",
       "      <td>1</td>\n",
       "      <td>Ladieswear</td>\n",
       "      <td>61</td>\n",
       "      <td>Womens Lingerie</td>\n",
       "      <td>1017</td>\n",
       "      <td>Under-, Nightwear</td>\n",
       "      <td>Microfibre T-shirt bra with underwired, moulde...</td>\n",
       "      <td>539</td>\n",
       "    </tr>\n",
       "  </tbody>\n",
       "</table>\n",
       "<p>5 rows × 26 columns</p>\n",
       "</div>"
      ],
      "text/plain": [
       "  article_id product_code          prod_name product_type_no  \\\n",
       "0  108775015       108775          Strap top             253   \n",
       "1  108775044       108775          Strap top             253   \n",
       "2  108775051       108775      Strap top (1)             253   \n",
       "3  110065001       110065  OP T-shirt (Idro)             306   \n",
       "4  110065002       110065  OP T-shirt (Idro)             306   \n",
       "\n",
       "  product_type_name  product_group_name graphical_appearance_no  \\\n",
       "0          Vest top  Garment Upper body                 1010016   \n",
       "1          Vest top  Garment Upper body                 1010016   \n",
       "2          Vest top  Garment Upper body                 1010017   \n",
       "3               Bra           Underwear                 1010016   \n",
       "4               Bra           Underwear                 1010016   \n",
       "\n",
       "  graphical_appearance_name colour_group_code colour_group_name  ...  \\\n",
       "0                     Solid                 9             Black  ...   \n",
       "1                     Solid                10             White  ...   \n",
       "2                    Stripe                11         Off White  ...   \n",
       "3                     Solid                 9             Black  ...   \n",
       "4                     Solid                10             White  ...   \n",
       "\n",
       "  index_code        index_name index_group_no index_group_name section_no  \\\n",
       "0          A        Ladieswear              1       Ladieswear         16   \n",
       "1          A        Ladieswear              1       Ladieswear         16   \n",
       "2          A        Ladieswear              1       Ladieswear         16   \n",
       "3          B  Lingeries/Tights              1       Ladieswear         61   \n",
       "4          B  Lingeries/Tights              1       Ladieswear         61   \n",
       "\n",
       "             section_name garment_group_no garment_group_name  \\\n",
       "0  Womens Everyday Basics             1002       Jersey Basic   \n",
       "1  Womens Everyday Basics             1002       Jersey Basic   \n",
       "2  Womens Everyday Basics             1002       Jersey Basic   \n",
       "3         Womens Lingerie             1017  Under-, Nightwear   \n",
       "4         Womens Lingerie             1017  Under-, Nightwear   \n",
       "\n",
       "                                         detail_desc total_sales  \n",
       "0            Jersey top with narrow shoulder straps.       10841  \n",
       "1            Jersey top with narrow shoulder straps.        7250  \n",
       "2            Jersey top with narrow shoulder straps.         215  \n",
       "3  Microfibre T-shirt bra with underwired, moulde...        1044  \n",
       "4  Microfibre T-shirt bra with underwired, moulde...         539  \n",
       "\n",
       "[5 rows x 26 columns]"
      ]
     },
     "execution_count": 13,
     "metadata": {},
     "output_type": "execute_result"
    }
   ],
   "source": [
    "sales = transactions.groupby('article_id').count()\n",
    "\n",
    "def f(x):\n",
    "    try:\n",
    "        return sales.loc[x]['customer_id']\n",
    "    except:\n",
    "        return 0\n",
    "articles['total_sales'] = articles['article_id'].apply(f)\n",
    "articles.head()"
   ]
  },
  {
   "cell_type": "code",
   "execution_count": 14,
   "id": "b61e3ad5",
   "metadata": {},
   "outputs": [],
   "source": [
    "to_drop = ['product_type_no',\n",
    "          'graphical_appearance_no',\n",
    "          'colour_group_code',\n",
    "          'perceived_colour_value_id',\n",
    "           'perceived_colour_master_id',\n",
    "           'department_no',\n",
    "           'index_code',\n",
    "           'index_group_no',\n",
    "           'section_no',\n",
    "           'garment_group_no']\n",
    "articles.drop(columns = to_drop, axis = 1, inplace = True)"
   ]
  },
  {
   "cell_type": "code",
   "execution_count": 15,
   "id": "d21d131d",
   "metadata": {},
   "outputs": [
    {
     "data": {
      "text/html": [
       "<div>\n",
       "<style scoped>\n",
       "    .dataframe tbody tr th:only-of-type {\n",
       "        vertical-align: middle;\n",
       "    }\n",
       "\n",
       "    .dataframe tbody tr th {\n",
       "        vertical-align: top;\n",
       "    }\n",
       "\n",
       "    .dataframe thead th {\n",
       "        text-align: right;\n",
       "    }\n",
       "</style>\n",
       "<table border=\"1\" class=\"dataframe\">\n",
       "  <thead>\n",
       "    <tr style=\"text-align: right;\">\n",
       "      <th></th>\n",
       "      <th>article_id</th>\n",
       "      <th>product_code</th>\n",
       "      <th>prod_name</th>\n",
       "      <th>product_type_name</th>\n",
       "      <th>product_group_name</th>\n",
       "      <th>graphical_appearance_name</th>\n",
       "      <th>colour_group_name</th>\n",
       "      <th>perceived_colour_value_name</th>\n",
       "      <th>perceived_colour_master_name</th>\n",
       "      <th>department_name</th>\n",
       "      <th>index_name</th>\n",
       "      <th>index_group_name</th>\n",
       "      <th>section_name</th>\n",
       "      <th>garment_group_name</th>\n",
       "      <th>detail_desc</th>\n",
       "      <th>total_sales</th>\n",
       "    </tr>\n",
       "  </thead>\n",
       "  <tbody>\n",
       "    <tr>\n",
       "      <th>53892</th>\n",
       "      <td>706016001</td>\n",
       "      <td>706016</td>\n",
       "      <td>Jade HW Skinny Denim TRS</td>\n",
       "      <td>Trousers</td>\n",
       "      <td>Garment Lower body</td>\n",
       "      <td>Solid</td>\n",
       "      <td>Black</td>\n",
       "      <td>Dark</td>\n",
       "      <td>Black</td>\n",
       "      <td>Trousers</td>\n",
       "      <td>Divided</td>\n",
       "      <td>Divided</td>\n",
       "      <td>Divided Collection</td>\n",
       "      <td>Trousers</td>\n",
       "      <td>High-waisted jeans in washed superstretch deni...</td>\n",
       "      <td>50287</td>\n",
       "    </tr>\n",
       "    <tr>\n",
       "      <th>53893</th>\n",
       "      <td>706016002</td>\n",
       "      <td>706016</td>\n",
       "      <td>Jade HW Skinny Denim TRS</td>\n",
       "      <td>Trousers</td>\n",
       "      <td>Garment Lower body</td>\n",
       "      <td>Solid</td>\n",
       "      <td>Light Blue</td>\n",
       "      <td>Light</td>\n",
       "      <td>Blue</td>\n",
       "      <td>Trousers</td>\n",
       "      <td>Divided</td>\n",
       "      <td>Divided</td>\n",
       "      <td>Divided Collection</td>\n",
       "      <td>Trousers</td>\n",
       "      <td>High-waisted jeans in washed superstretch deni...</td>\n",
       "      <td>35043</td>\n",
       "    </tr>\n",
       "    <tr>\n",
       "      <th>1713</th>\n",
       "      <td>372860001</td>\n",
       "      <td>372860</td>\n",
       "      <td>7p Basic Shaftless</td>\n",
       "      <td>Socks</td>\n",
       "      <td>Socks &amp; Tights</td>\n",
       "      <td>Solid</td>\n",
       "      <td>Black</td>\n",
       "      <td>Dark</td>\n",
       "      <td>Black</td>\n",
       "      <td>Shopbasket Socks</td>\n",
       "      <td>Lingeries/Tights</td>\n",
       "      <td>Ladieswear</td>\n",
       "      <td>Womens Nightwear, Socks &amp; Tigh</td>\n",
       "      <td>Socks and Tights</td>\n",
       "      <td>Fine-knit trainer socks in a soft cotton blend.</td>\n",
       "      <td>31718</td>\n",
       "    </tr>\n",
       "    <tr>\n",
       "      <th>24837</th>\n",
       "      <td>610776002</td>\n",
       "      <td>610776</td>\n",
       "      <td>Tilly (1)</td>\n",
       "      <td>T-shirt</td>\n",
       "      <td>Garment Upper body</td>\n",
       "      <td>Solid</td>\n",
       "      <td>Black</td>\n",
       "      <td>Dark</td>\n",
       "      <td>Black</td>\n",
       "      <td>Jersey Basic</td>\n",
       "      <td>Ladieswear</td>\n",
       "      <td>Ladieswear</td>\n",
       "      <td>Womens Everyday Basics</td>\n",
       "      <td>Jersey Basic</td>\n",
       "      <td>T-shirt in lightweight jersey with a rounded h...</td>\n",
       "      <td>30199</td>\n",
       "    </tr>\n",
       "    <tr>\n",
       "      <th>70221</th>\n",
       "      <td>759871002</td>\n",
       "      <td>759871</td>\n",
       "      <td>Tilda tank</td>\n",
       "      <td>Vest top</td>\n",
       "      <td>Garment Upper body</td>\n",
       "      <td>Solid</td>\n",
       "      <td>Black</td>\n",
       "      <td>Dark</td>\n",
       "      <td>Black</td>\n",
       "      <td>EQ Divided Basics</td>\n",
       "      <td>Divided</td>\n",
       "      <td>Divided</td>\n",
       "      <td>Divided Complements Other</td>\n",
       "      <td>Jersey Basic</td>\n",
       "      <td>Cropped, fitted top in cotton jersey with narr...</td>\n",
       "      <td>26329</td>\n",
       "    </tr>\n",
       "    <tr>\n",
       "      <th>3711</th>\n",
       "      <td>464297007</td>\n",
       "      <td>464297</td>\n",
       "      <td>Greta Thong Mynta Low 3p</td>\n",
       "      <td>Underwear bottom</td>\n",
       "      <td>Underwear</td>\n",
       "      <td>Placement print</td>\n",
       "      <td>Black</td>\n",
       "      <td>Dark</td>\n",
       "      <td>Black</td>\n",
       "      <td>Casual Lingerie</td>\n",
       "      <td>Lingeries/Tights</td>\n",
       "      <td>Ladieswear</td>\n",
       "      <td>Womens Lingerie</td>\n",
       "      <td>Under-, Nightwear</td>\n",
       "      <td>Thong briefs in cotton jersey with a wide lace...</td>\n",
       "      <td>25025</td>\n",
       "    </tr>\n",
       "    <tr>\n",
       "      <th>1714</th>\n",
       "      <td>372860002</td>\n",
       "      <td>372860</td>\n",
       "      <td>7p Basic Shaftless</td>\n",
       "      <td>Socks</td>\n",
       "      <td>Socks &amp; Tights</td>\n",
       "      <td>Solid</td>\n",
       "      <td>White</td>\n",
       "      <td>Light</td>\n",
       "      <td>White</td>\n",
       "      <td>Shopbasket Socks</td>\n",
       "      <td>Lingeries/Tights</td>\n",
       "      <td>Ladieswear</td>\n",
       "      <td>Womens Nightwear, Socks &amp; Tigh</td>\n",
       "      <td>Socks and Tights</td>\n",
       "      <td>Fine-knit trainer socks in a soft cotton blend.</td>\n",
       "      <td>24458</td>\n",
       "    </tr>\n",
       "    <tr>\n",
       "      <th>24836</th>\n",
       "      <td>610776001</td>\n",
       "      <td>610776</td>\n",
       "      <td>Tilly (1)</td>\n",
       "      <td>T-shirt</td>\n",
       "      <td>Garment Upper body</td>\n",
       "      <td>Solid</td>\n",
       "      <td>White</td>\n",
       "      <td>Light</td>\n",
       "      <td>White</td>\n",
       "      <td>Jersey Basic</td>\n",
       "      <td>Ladieswear</td>\n",
       "      <td>Ladieswear</td>\n",
       "      <td>Womens Everyday Basics</td>\n",
       "      <td>Jersey Basic</td>\n",
       "      <td>T-shirt in lightweight jersey with a rounded h...</td>\n",
       "      <td>22451</td>\n",
       "    </tr>\n",
       "    <tr>\n",
       "      <th>2236</th>\n",
       "      <td>399223001</td>\n",
       "      <td>399223</td>\n",
       "      <td>Curvy Jeggings HW Ankle</td>\n",
       "      <td>Trousers</td>\n",
       "      <td>Garment Lower body</td>\n",
       "      <td>Solid</td>\n",
       "      <td>Black</td>\n",
       "      <td>Dark</td>\n",
       "      <td>Black</td>\n",
       "      <td>Denim Trousers</td>\n",
       "      <td>Divided</td>\n",
       "      <td>Divided</td>\n",
       "      <td>Ladies Denim</td>\n",
       "      <td>Trousers Denim</td>\n",
       "      <td>Jeggings in washed, superstretch denim with a ...</td>\n",
       "      <td>22236</td>\n",
       "    </tr>\n",
       "    <tr>\n",
       "      <th>53894</th>\n",
       "      <td>706016003</td>\n",
       "      <td>706016</td>\n",
       "      <td>Jade HW Skinny Denim TRS</td>\n",
       "      <td>Trousers</td>\n",
       "      <td>Garment Lower body</td>\n",
       "      <td>Solid</td>\n",
       "      <td>Dark Blue</td>\n",
       "      <td>Medium Dusty</td>\n",
       "      <td>Blue</td>\n",
       "      <td>Trousers</td>\n",
       "      <td>Divided</td>\n",
       "      <td>Divided</td>\n",
       "      <td>Divided Collection</td>\n",
       "      <td>Trousers</td>\n",
       "      <td>High-waisted jeans in washed superstretch deni...</td>\n",
       "      <td>21241</td>\n",
       "    </tr>\n",
       "  </tbody>\n",
       "</table>\n",
       "</div>"
      ],
      "text/plain": [
       "      article_id product_code                 prod_name product_type_name  \\\n",
       "53892  706016001       706016  Jade HW Skinny Denim TRS          Trousers   \n",
       "53893  706016002       706016  Jade HW Skinny Denim TRS          Trousers   \n",
       "1713   372860001       372860        7p Basic Shaftless             Socks   \n",
       "24837  610776002       610776                 Tilly (1)           T-shirt   \n",
       "70221  759871002       759871                Tilda tank          Vest top   \n",
       "3711   464297007       464297  Greta Thong Mynta Low 3p  Underwear bottom   \n",
       "1714   372860002       372860        7p Basic Shaftless             Socks   \n",
       "24836  610776001       610776                 Tilly (1)           T-shirt   \n",
       "2236   399223001       399223   Curvy Jeggings HW Ankle          Trousers   \n",
       "53894  706016003       706016  Jade HW Skinny Denim TRS          Trousers   \n",
       "\n",
       "       product_group_name graphical_appearance_name colour_group_name  \\\n",
       "53892  Garment Lower body                     Solid             Black   \n",
       "53893  Garment Lower body                     Solid        Light Blue   \n",
       "1713       Socks & Tights                     Solid             Black   \n",
       "24837  Garment Upper body                     Solid             Black   \n",
       "70221  Garment Upper body                     Solid             Black   \n",
       "3711            Underwear           Placement print             Black   \n",
       "1714       Socks & Tights                     Solid             White   \n",
       "24836  Garment Upper body                     Solid             White   \n",
       "2236   Garment Lower body                     Solid             Black   \n",
       "53894  Garment Lower body                     Solid         Dark Blue   \n",
       "\n",
       "      perceived_colour_value_name perceived_colour_master_name  \\\n",
       "53892                        Dark                        Black   \n",
       "53893                       Light                         Blue   \n",
       "1713                         Dark                        Black   \n",
       "24837                        Dark                        Black   \n",
       "70221                        Dark                        Black   \n",
       "3711                         Dark                        Black   \n",
       "1714                        Light                        White   \n",
       "24836                       Light                        White   \n",
       "2236                         Dark                        Black   \n",
       "53894                Medium Dusty                         Blue   \n",
       "\n",
       "         department_name        index_name index_group_name  \\\n",
       "53892           Trousers           Divided          Divided   \n",
       "53893           Trousers           Divided          Divided   \n",
       "1713    Shopbasket Socks  Lingeries/Tights       Ladieswear   \n",
       "24837       Jersey Basic        Ladieswear       Ladieswear   \n",
       "70221  EQ Divided Basics           Divided          Divided   \n",
       "3711     Casual Lingerie  Lingeries/Tights       Ladieswear   \n",
       "1714    Shopbasket Socks  Lingeries/Tights       Ladieswear   \n",
       "24836       Jersey Basic        Ladieswear       Ladieswear   \n",
       "2236      Denim Trousers           Divided          Divided   \n",
       "53894           Trousers           Divided          Divided   \n",
       "\n",
       "                         section_name garment_group_name  \\\n",
       "53892              Divided Collection           Trousers   \n",
       "53893              Divided Collection           Trousers   \n",
       "1713   Womens Nightwear, Socks & Tigh   Socks and Tights   \n",
       "24837          Womens Everyday Basics       Jersey Basic   \n",
       "70221       Divided Complements Other       Jersey Basic   \n",
       "3711                  Womens Lingerie  Under-, Nightwear   \n",
       "1714   Womens Nightwear, Socks & Tigh   Socks and Tights   \n",
       "24836          Womens Everyday Basics       Jersey Basic   \n",
       "2236                     Ladies Denim     Trousers Denim   \n",
       "53894              Divided Collection           Trousers   \n",
       "\n",
       "                                             detail_desc  total_sales  \n",
       "53892  High-waisted jeans in washed superstretch deni...        50287  \n",
       "53893  High-waisted jeans in washed superstretch deni...        35043  \n",
       "1713     Fine-knit trainer socks in a soft cotton blend.        31718  \n",
       "24837  T-shirt in lightweight jersey with a rounded h...        30199  \n",
       "70221  Cropped, fitted top in cotton jersey with narr...        26329  \n",
       "3711   Thong briefs in cotton jersey with a wide lace...        25025  \n",
       "1714     Fine-knit trainer socks in a soft cotton blend.        24458  \n",
       "24836  T-shirt in lightweight jersey with a rounded h...        22451  \n",
       "2236   Jeggings in washed, superstretch denim with a ...        22236  \n",
       "53894  High-waisted jeans in washed superstretch deni...        21241  "
      ]
     },
     "execution_count": 15,
     "metadata": {},
     "output_type": "execute_result"
    }
   ],
   "source": [
    "articles.sort_values(by = 'total_sales', ascending = False).head(10)"
   ]
  },
  {
   "cell_type": "markdown",
   "id": "b964c2c5",
   "metadata": {},
   "source": [
    "###### The top two bestsellers are denim Trousers, with black colour having more sales than light blue. 8 out of the top 10 topsellers are Black.\n",
    "##### There are 105542 distinct article_id in the articles dataset. Hence we define the top 1000 (~1%) articles with most sales as a bestseller.\n"
   ]
  },
  {
   "cell_type": "code",
   "execution_count": 16,
   "id": "c7390768",
   "metadata": {},
   "outputs": [],
   "source": [
    "bestsellers = articles.sort_values(by='total_sales', ascending=False).head(1000)"
   ]
  },
  {
   "cell_type": "code",
   "execution_count": 17,
   "id": "9eab62c8",
   "metadata": {
    "scrolled": true
   },
   "outputs": [
    {
     "data": {
      "image/png": "[encoded data removed]",
      "text/plain": [
       "<Figure size 1440x576 with 1 Axes>"
      ]
     },
     "metadata": {},
     "output_type": "display_data"
    }
   ],
   "source": [
    "plt.figure(figsize = (20,8))\n",
    "g = sns.countplot(data = bestsellers,\n",
    "                  x =\"colour_group_name\", \n",
    "                  palette = \"pastel\")\n",
    "g.bar_label(g.containers[0])\n",
    "g.tick_params(axis = \"x\", rotation = 90)\n",
    "plt.title(\"Colour Group of Bestsellers\")\n",
    "plt.show(g)"
   ]
  },
  {
   "cell_type": "markdown",
   "id": "31d1f48a",
   "metadata": {},
   "source": [
    "###### Black is the most popular colour followed by White"
   ]
  },
  {
   "cell_type": "code",
   "execution_count": 18,
   "id": "ac365fb5",
   "metadata": {},
   "outputs": [
    {
     "data": {
      "image/png": "[encoded data removed]",
      "text/plain": [
       "<Figure size 1440x576 with 1 Axes>"
      ]
     },
     "metadata": {},
     "output_type": "display_data"
    }
   ],
   "source": [
    "plt.figure(figsize = (20,8))\n",
    "a = sns.countplot(x=\"garment_group_name\",\n",
    "                 data = articles,\n",
    "                 palette = \"dark\")\n",
    "a.bar_label(a.containers[0])\n",
    "a.tick_params(axis = \"x\", rotation=90)\n",
    "plt.title(\"All Articles on H&M\")\n",
    "plt.show(a)"
   ]
  },
  {
   "cell_type": "code",
   "execution_count": 19,
   "id": "0c040c07",
   "metadata": {},
   "outputs": [
    {
     "data": {
      "image/png": "[encoded data removed]",
      "text/plain": [
       "<Figure size 1440x576 with 1 Axes>"
      ]
     },
     "metadata": {},
     "output_type": "display_data"
    }
   ],
   "source": [
    "plt.figure(figsize = (20, 8))\n",
    "b = sns.countplot(x = \"garment_group_name\",\n",
    "                 data = bestsellers,\n",
    "                 palette = \"dark\")\n",
    "b.bar_label(b.containers[0])\n",
    "b.tick_params(axis = \"x\", rotation = 90)\n",
    "plt.title(\"Bestselling Articles on H&M\")\n",
    "plt.show(b)"
   ]
  },
  {
   "cell_type": "markdown",
   "id": "ef1b085d",
   "metadata": {},
   "source": [
    "###### H&M top three sellers are Swimwear, Jesery Basic and Trousers\n",
    "###### In addition to that, Accessories is the number two sellers among all articles after Jersey Fancy although it does not consititue much of the bestsellers"
   ]
  },
  {
   "cell_type": "code",
   "execution_count": 20,
   "id": "283df4eb",
   "metadata": {},
   "outputs": [
    {
     "data": {
      "image/png": "[encoded data removed]",
      "text/plain": [
       "<Figure size 720x576 with 1 Axes>"
      ]
     },
     "metadata": {},
     "output_type": "display_data"
    }
   ],
   "source": [
    "plt.figure(figsize = (10,8))\n",
    "c = sns.countplot(x=\"index_group_name\",\n",
    "                 data = articles,\n",
    "                 palette = \"colorblind\")\n",
    "c.bar_label(c.containers[0])\n",
    "c.tick_params(axis = \"x\", rotation = 90)\n",
    "plt.title(\"All Articles on H&M\")\n",
    "plt.show(c)"
   ]
  },
  {
   "cell_type": "code",
   "execution_count": 21,
   "id": "d006b012",
   "metadata": {},
   "outputs": [
    {
     "data": {
      "image/png": "[encoded data removed]",
      "text/plain": [
       "<Figure size 720x576 with 1 Axes>"
      ]
     },
     "metadata": {},
     "output_type": "display_data"
    }
   ],
   "source": [
    "plt.figure(figsize = (10,8))\n",
    "d = sns.countplot(x = \"index_group_name\",\n",
    "                 data = bestsellers,\n",
    "                 palette = \"colorblind\")\n",
    "d.bar_label(d.containers[0])\n",
    "d.tick_params(axis = \"x\", rotation = 90)\n",
    "plt.title(\"Bestselling Articles on H&M\")\n",
    "plt.show(d)"
   ]
  },
  {
   "cell_type": "markdown",
   "id": "eb92639b",
   "metadata": {},
   "source": [
    "###### A quick review at the official H&M website shows that it targets the feminine styles. We can see that the most bestselling articles were designed for the female audience. It is therefore safe to conclude that most sutomers that contribute to the sales of H&M articles belong to the female demographic. \n",
    "##### Although H&M produes alot of Baby articles, none of them mae it to the bestsellers"
   ]
  },
  {
   "cell_type": "code",
   "execution_count": null,
   "id": "dc701c55",
   "metadata": {},
   "outputs": [],
   "source": []
  },
  {
   "cell_type": "markdown",
   "id": "426cbf58",
   "metadata": {},
   "source": [
    "## Customers Analysis"
   ]
  },
  {
   "cell_type": "code",
   "execution_count": 22,
   "id": "7ed3452e",
   "metadata": {},
   "outputs": [
    {
     "name": "stdout",
     "output_type": "stream",
     "text": [
      "<class 'pandas.core.frame.DataFrame'>\n",
      "Int64Index: 1371980 entries, 0 to 1371979\n",
      "Data columns (total 7 columns):\n",
      " #   Column                  Non-Null Count    Dtype  \n",
      "---  ------                  --------------    -----  \n",
      " 0   customer_id             1371980 non-null  object \n",
      " 1   FN                      476930 non-null   float64\n",
      " 2   Active                  464404 non-null   float64\n",
      " 3   club_member_status      1365918 non-null  object \n",
      " 4   fashion_news_frequency  1355971 non-null  object \n",
      " 5   age                     1356119 non-null  float64\n",
      " 6   postal_code             1371980 non-null  object \n",
      "dtypes: float64(3), object(4)\n",
      "memory usage: 83.7+ MB\n",
      "None\n"
     ]
    }
   ],
   "source": [
    "customers.drop_duplicates(inplace = True)\n",
    "print(customers.info())"
   ]
  },
  {
   "cell_type": "markdown",
   "id": "5b2ed7da",
   "metadata": {},
   "source": [
    "##### Who contributes to the bestsellers"
   ]
  },
  {
   "cell_type": "code",
   "execution_count": 23,
   "id": "e2b828c2",
   "metadata": {},
   "outputs": [
    {
     "name": "stdout",
     "output_type": "stream",
     "text": [
      "['customer_id', 'FN', 'Active', 'club_member_status', 'fashion_news_frequency', 'age', 'postal_code']\n"
     ]
    }
   ],
   "source": [
    "print(list(customers.columns))"
   ]
  },
  {
   "cell_type": "code",
   "execution_count": 24,
   "id": "c644d3e4",
   "metadata": {},
   "outputs": [
    {
     "data": {
      "text/html": [
       "<div>\n",
       "<style scoped>\n",
       "    .dataframe tbody tr th:only-of-type {\n",
       "        vertical-align: middle;\n",
       "    }\n",
       "\n",
       "    .dataframe tbody tr th {\n",
       "        vertical-align: top;\n",
       "    }\n",
       "\n",
       "    .dataframe thead th {\n",
       "        text-align: right;\n",
       "    }\n",
       "</style>\n",
       "<table border=\"1\" class=\"dataframe\">\n",
       "  <thead>\n",
       "    <tr style=\"text-align: right;\">\n",
       "      <th></th>\n",
       "      <th>customer_id</th>\n",
       "      <th>FN</th>\n",
       "      <th>Active</th>\n",
       "      <th>club_member_status</th>\n",
       "      <th>fashion_news_frequency</th>\n",
       "      <th>age</th>\n",
       "      <th>postal_code</th>\n",
       "    </tr>\n",
       "  </thead>\n",
       "  <tbody>\n",
       "    <tr>\n",
       "      <th>0</th>\n",
       "      <td>00000dbacae5abe5e23885899a1fa44253a17956c6d1c3...</td>\n",
       "      <td>NaN</td>\n",
       "      <td>NaN</td>\n",
       "      <td>ACTIVE</td>\n",
       "      <td>NONE</td>\n",
       "      <td>49.0</td>\n",
       "      <td>52043ee2162cf5aa7ee79974281641c6f11a68d276429a...</td>\n",
       "    </tr>\n",
       "    <tr>\n",
       "      <th>1</th>\n",
       "      <td>0000423b00ade91418cceaf3b26c6af3dd342b51fd051e...</td>\n",
       "      <td>NaN</td>\n",
       "      <td>NaN</td>\n",
       "      <td>ACTIVE</td>\n",
       "      <td>NONE</td>\n",
       "      <td>25.0</td>\n",
       "      <td>2973abc54daa8a5f8ccfe9362140c63247c5eee03f1d93...</td>\n",
       "    </tr>\n",
       "    <tr>\n",
       "      <th>2</th>\n",
       "      <td>000058a12d5b43e67d225668fa1f8d618c13dc232df0ca...</td>\n",
       "      <td>NaN</td>\n",
       "      <td>NaN</td>\n",
       "      <td>ACTIVE</td>\n",
       "      <td>NONE</td>\n",
       "      <td>24.0</td>\n",
       "      <td>64f17e6a330a85798e4998f62d0930d14db8db1c054af6...</td>\n",
       "    </tr>\n",
       "    <tr>\n",
       "      <th>4</th>\n",
       "      <td>00006413d8573cd20ed7128e53b7b13819fe5cfc2d801f...</td>\n",
       "      <td>1.0</td>\n",
       "      <td>1.0</td>\n",
       "      <td>ACTIVE</td>\n",
       "      <td>Regularly</td>\n",
       "      <td>52.0</td>\n",
       "      <td>25fa5ddee9aac01b35208d01736e57942317d756b32ddd...</td>\n",
       "    </tr>\n",
       "    <tr>\n",
       "      <th>5</th>\n",
       "      <td>000064249685c11552da43ef22a5030f35a147f723d5b0...</td>\n",
       "      <td>NaN</td>\n",
       "      <td>NaN</td>\n",
       "      <td>NaN</td>\n",
       "      <td>NaN</td>\n",
       "      <td>NaN</td>\n",
       "      <td>2c29ae653a9282cce4151bd87643c907644e09541abc28...</td>\n",
       "    </tr>\n",
       "  </tbody>\n",
       "</table>\n",
       "</div>"
      ],
      "text/plain": [
       "                                         customer_id   FN  Active  \\\n",
       "0  00000dbacae5abe5e23885899a1fa44253a17956c6d1c3...  NaN     NaN   \n",
       "1  0000423b00ade91418cceaf3b26c6af3dd342b51fd051e...  NaN     NaN   \n",
       "2  000058a12d5b43e67d225668fa1f8d618c13dc232df0ca...  NaN     NaN   \n",
       "4  00006413d8573cd20ed7128e53b7b13819fe5cfc2d801f...  1.0     1.0   \n",
       "5  000064249685c11552da43ef22a5030f35a147f723d5b0...  NaN     NaN   \n",
       "\n",
       "  club_member_status fashion_news_frequency   age  \\\n",
       "0             ACTIVE                   NONE  49.0   \n",
       "1             ACTIVE                   NONE  25.0   \n",
       "2             ACTIVE                   NONE  24.0   \n",
       "4             ACTIVE              Regularly  52.0   \n",
       "5                NaN                    NaN   NaN   \n",
       "\n",
       "                                         postal_code  \n",
       "0  52043ee2162cf5aa7ee79974281641c6f11a68d276429a...  \n",
       "1  2973abc54daa8a5f8ccfe9362140c63247c5eee03f1d93...  \n",
       "2  64f17e6a330a85798e4998f62d0930d14db8db1c054af6...  \n",
       "4  25fa5ddee9aac01b35208d01736e57942317d756b32ddd...  \n",
       "5  2c29ae653a9282cce4151bd87643c907644e09541abc28...  "
      ]
     },
     "execution_count": 24,
     "metadata": {},
     "output_type": "execute_result"
    }
   ],
   "source": [
    "bestsellers_transactions = transactions[transactions['article_id'].isin(bestsellers['article_id'])]\n",
    "bestsellers_contributors = customers[customers['customer_id'].isin(bestsellers_transactions['customer_id'])]\n",
    "bestsellers_contributors.head()"
   ]
  },
  {
   "cell_type": "code",
   "execution_count": 25,
   "id": "4159c3f0",
   "metadata": {},
   "outputs": [
    {
     "data": {
      "image/png": "[encoded data removed]",
      "text/plain": [
       "<Figure size 1080x720 with 1 Axes>"
      ]
     },
     "metadata": {},
     "output_type": "display_data"
    }
   ],
   "source": [
    "#Age Distribution\n",
    "sns.set_style('darkgrid')\n",
    "plt.figure(figsize = (15,10))\n",
    "sns.histplot(customers['age'],\n",
    "            kde = False,\n",
    "            color = \"orange\")\n",
    "plt.xlabel('Customers Age Distribution')\n",
    "plt.title(\"Age of All Customers\")\n",
    "plt.show()"
   ]
  },
  {
   "cell_type": "code",
   "execution_count": 26,
   "id": "f48ce51a",
   "metadata": {},
   "outputs": [
    {
     "data": {
      "image/png": "[encoded data removed]",
      "text/plain": [
       "<Figure size 1080x720 with 1 Axes>"
      ]
     },
     "metadata": {},
     "output_type": "display_data"
    }
   ],
   "source": [
    "sns.set_style('darkgrid')\n",
    "plt.figure(figsize = (15,10))\n",
    "sns.histplot(bestsellers_contributors['age'], \n",
    "             kde = False,\n",
    "            color = \"purple\")\n",
    "plt.title(\"Age of Customers Who Bought Bessellers\")\n",
    "plt.show()"
   ]
  },
  {
   "cell_type": "markdown",
   "id": "e394966c",
   "metadata": {},
   "source": [
    "###### Majority of the customers are around 20yrs to 30 yrs old. There is also a slight peak in customers who are around 50yrs old"
   ]
  },
  {
   "cell_type": "markdown",
   "id": "5679e2cd",
   "metadata": {},
   "source": [
    "##### Which articles generate the most revenue"
   ]
  },
  {
   "cell_type": "code",
   "execution_count": 27,
   "id": "46b1690d",
   "metadata": {},
   "outputs": [
    {
     "data": {
      "text/plain": [
       "Index(['t_dat', 'customer_id', 'article_id', 'price', 'sales_channel_id'], dtype='object')"
      ]
     },
     "execution_count": 27,
     "metadata": {},
     "output_type": "execute_result"
    }
   ],
   "source": [
    "transactions.columns"
   ]
  },
  {
   "cell_type": "code",
   "execution_count": 28,
   "id": "743caa83",
   "metadata": {},
   "outputs": [
    {
     "data": {
      "text/html": [
       "<div>\n",
       "<style scoped>\n",
       "    .dataframe tbody tr th:only-of-type {\n",
       "        vertical-align: middle;\n",
       "    }\n",
       "\n",
       "    .dataframe tbody tr th {\n",
       "        vertical-align: top;\n",
       "    }\n",
       "\n",
       "    .dataframe thead th {\n",
       "        text-align: right;\n",
       "    }\n",
       "</style>\n",
       "<table border=\"1\" class=\"dataframe\">\n",
       "  <thead>\n",
       "    <tr style=\"text-align: right;\">\n",
       "      <th></th>\n",
       "      <th>total_revenue</th>\n",
       "    </tr>\n",
       "    <tr>\n",
       "      <th>article_id</th>\n",
       "      <th></th>\n",
       "    </tr>\n",
       "  </thead>\n",
       "  <tbody>\n",
       "    <tr>\n",
       "      <th>706016001</th>\n",
       "      <td>1631.732102</td>\n",
       "    </tr>\n",
       "    <tr>\n",
       "      <th>706016002</th>\n",
       "      <td>1136.321085</td>\n",
       "    </tr>\n",
       "    <tr>\n",
       "      <th>568601006</th>\n",
       "      <td>939.268593</td>\n",
       "    </tr>\n",
       "    <tr>\n",
       "      <th>448509014</th>\n",
       "      <td>781.478390</td>\n",
       "    </tr>\n",
       "    <tr>\n",
       "      <th>706016003</th>\n",
       "      <td>692.195915</td>\n",
       "    </tr>\n",
       "    <tr>\n",
       "      <th>399223001</th>\n",
       "      <td>686.484780</td>\n",
       "    </tr>\n",
       "    <tr>\n",
       "      <th>720125001</th>\n",
       "      <td>683.606542</td>\n",
       "    </tr>\n",
       "    <tr>\n",
       "      <th>562245046</th>\n",
       "      <td>656.213763</td>\n",
       "    </tr>\n",
       "    <tr>\n",
       "      <th>751471001</th>\n",
       "      <td>590.639949</td>\n",
       "    </tr>\n",
       "    <tr>\n",
       "      <th>562245001</th>\n",
       "      <td>535.719898</td>\n",
       "    </tr>\n",
       "  </tbody>\n",
       "</table>\n",
       "</div>"
      ],
      "text/plain": [
       "            total_revenue\n",
       "article_id               \n",
       "706016001     1631.732102\n",
       "706016002     1136.321085\n",
       "568601006      939.268593\n",
       "448509014      781.478390\n",
       "706016003      692.195915\n",
       "399223001      686.484780\n",
       "720125001      683.606542\n",
       "562245046      656.213763\n",
       "751471001      590.639949\n",
       "562245001      535.719898"
      ]
     },
     "execution_count": 28,
     "metadata": {},
     "output_type": "execute_result"
    }
   ],
   "source": [
    "article_revenue = transactions.groupby('article_id').sum()\n",
    "article_revenue.drop(columns=['sales_channel_id'], inplace=True)\n",
    "article_revenue_ranking = article_revenue.sort_values(by='price', ascending=False)\n",
    "article_revenue_ranking.rename(columns={'price':'total_revenue'}, inplace=True)\n",
    "article_revenue_ranking.head(10)"
   ]
  },
  {
   "cell_type": "markdown",
   "id": "dff511ff",
   "metadata": {},
   "source": [
    "##### The first two articles correspond to the top 2 bestsellers."
   ]
  },
  {
   "cell_type": "code",
   "execution_count": 29,
   "id": "ee2e2588",
   "metadata": {},
   "outputs": [
    {
     "data": {
      "text/plain": [
       "Index(['article_id', 'product_code', 'prod_name', 'product_type_name',\n",
       "       'product_group_name', 'graphical_appearance_name', 'colour_group_name',\n",
       "       'perceived_colour_value_name', 'perceived_colour_master_name',\n",
       "       'department_name', 'index_name', 'index_group_name', 'section_name',\n",
       "       'garment_group_name', 'detail_desc', 'total_sales'],\n",
       "      dtype='object')"
      ]
     },
     "execution_count": 29,
     "metadata": {},
     "output_type": "execute_result"
    }
   ],
   "source": [
    "articles.columns"
   ]
  },
  {
   "cell_type": "code",
   "execution_count": 30,
   "id": "f93480ba",
   "metadata": {},
   "outputs": [
    {
     "data": {
      "text/html": [
       "<div>\n",
       "<style scoped>\n",
       "    .dataframe tbody tr th:only-of-type {\n",
       "        vertical-align: middle;\n",
       "    }\n",
       "\n",
       "    .dataframe tbody tr th {\n",
       "        vertical-align: top;\n",
       "    }\n",
       "\n",
       "    .dataframe thead th {\n",
       "        text-align: right;\n",
       "    }\n",
       "</style>\n",
       "<table border=\"1\" class=\"dataframe\">\n",
       "  <thead>\n",
       "    <tr style=\"text-align: right;\">\n",
       "      <th></th>\n",
       "      <th>article_id</th>\n",
       "      <th>product_code</th>\n",
       "      <th>prod_name</th>\n",
       "      <th>product_type_name</th>\n",
       "      <th>product_group_name</th>\n",
       "      <th>graphical_appearance_name</th>\n",
       "      <th>colour_group_name</th>\n",
       "      <th>perceived_colour_value_name</th>\n",
       "      <th>perceived_colour_master_name</th>\n",
       "      <th>department_name</th>\n",
       "      <th>index_name</th>\n",
       "      <th>index_group_name</th>\n",
       "      <th>section_name</th>\n",
       "      <th>garment_group_name</th>\n",
       "      <th>detail_desc</th>\n",
       "      <th>total_sales</th>\n",
       "      <th>total_revenue</th>\n",
       "    </tr>\n",
       "  </thead>\n",
       "  <tbody>\n",
       "    <tr>\n",
       "      <th>0</th>\n",
       "      <td>108775015</td>\n",
       "      <td>108775</td>\n",
       "      <td>Strap top</td>\n",
       "      <td>Vest top</td>\n",
       "      <td>Garment Upper body</td>\n",
       "      <td>Solid</td>\n",
       "      <td>Black</td>\n",
       "      <td>Dark</td>\n",
       "      <td>Black</td>\n",
       "      <td>Jersey Basic</td>\n",
       "      <td>Ladieswear</td>\n",
       "      <td>Ladieswear</td>\n",
       "      <td>Womens Everyday Basics</td>\n",
       "      <td>Jersey Basic</td>\n",
       "      <td>Jersey top with narrow shoulder straps.</td>\n",
       "      <td>10841</td>\n",
       "      <td>10841</td>\n",
       "    </tr>\n",
       "    <tr>\n",
       "      <th>1</th>\n",
       "      <td>108775044</td>\n",
       "      <td>108775</td>\n",
       "      <td>Strap top</td>\n",
       "      <td>Vest top</td>\n",
       "      <td>Garment Upper body</td>\n",
       "      <td>Solid</td>\n",
       "      <td>White</td>\n",
       "      <td>Light</td>\n",
       "      <td>White</td>\n",
       "      <td>Jersey Basic</td>\n",
       "      <td>Ladieswear</td>\n",
       "      <td>Ladieswear</td>\n",
       "      <td>Womens Everyday Basics</td>\n",
       "      <td>Jersey Basic</td>\n",
       "      <td>Jersey top with narrow shoulder straps.</td>\n",
       "      <td>7250</td>\n",
       "      <td>7250</td>\n",
       "    </tr>\n",
       "    <tr>\n",
       "      <th>2</th>\n",
       "      <td>108775051</td>\n",
       "      <td>108775</td>\n",
       "      <td>Strap top (1)</td>\n",
       "      <td>Vest top</td>\n",
       "      <td>Garment Upper body</td>\n",
       "      <td>Stripe</td>\n",
       "      <td>Off White</td>\n",
       "      <td>Dusty Light</td>\n",
       "      <td>White</td>\n",
       "      <td>Jersey Basic</td>\n",
       "      <td>Ladieswear</td>\n",
       "      <td>Ladieswear</td>\n",
       "      <td>Womens Everyday Basics</td>\n",
       "      <td>Jersey Basic</td>\n",
       "      <td>Jersey top with narrow shoulder straps.</td>\n",
       "      <td>215</td>\n",
       "      <td>215</td>\n",
       "    </tr>\n",
       "    <tr>\n",
       "      <th>3</th>\n",
       "      <td>110065001</td>\n",
       "      <td>110065</td>\n",
       "      <td>OP T-shirt (Idro)</td>\n",
       "      <td>Bra</td>\n",
       "      <td>Underwear</td>\n",
       "      <td>Solid</td>\n",
       "      <td>Black</td>\n",
       "      <td>Dark</td>\n",
       "      <td>Black</td>\n",
       "      <td>Clean Lingerie</td>\n",
       "      <td>Lingeries/Tights</td>\n",
       "      <td>Ladieswear</td>\n",
       "      <td>Womens Lingerie</td>\n",
       "      <td>Under-, Nightwear</td>\n",
       "      <td>Microfibre T-shirt bra with underwired, moulde...</td>\n",
       "      <td>1044</td>\n",
       "      <td>1044</td>\n",
       "    </tr>\n",
       "    <tr>\n",
       "      <th>4</th>\n",
       "      <td>110065002</td>\n",
       "      <td>110065</td>\n",
       "      <td>OP T-shirt (Idro)</td>\n",
       "      <td>Bra</td>\n",
       "      <td>Underwear</td>\n",
       "      <td>Solid</td>\n",
       "      <td>White</td>\n",
       "      <td>Light</td>\n",
       "      <td>White</td>\n",
       "      <td>Clean Lingerie</td>\n",
       "      <td>Lingeries/Tights</td>\n",
       "      <td>Ladieswear</td>\n",
       "      <td>Womens Lingerie</td>\n",
       "      <td>Under-, Nightwear</td>\n",
       "      <td>Microfibre T-shirt bra with underwired, moulde...</td>\n",
       "      <td>539</td>\n",
       "      <td>539</td>\n",
       "    </tr>\n",
       "    <tr>\n",
       "      <th>5</th>\n",
       "      <td>110065011</td>\n",
       "      <td>110065</td>\n",
       "      <td>OP T-shirt (Idro)</td>\n",
       "      <td>Bra</td>\n",
       "      <td>Underwear</td>\n",
       "      <td>Solid</td>\n",
       "      <td>Light Beige</td>\n",
       "      <td>Dusty Light</td>\n",
       "      <td>Beige</td>\n",
       "      <td>Clean Lingerie</td>\n",
       "      <td>Lingeries/Tights</td>\n",
       "      <td>Ladieswear</td>\n",
       "      <td>Womens Lingerie</td>\n",
       "      <td>Under-, Nightwear</td>\n",
       "      <td>Microfibre T-shirt bra with underwired, moulde...</td>\n",
       "      <td>1090</td>\n",
       "      <td>1090</td>\n",
       "    </tr>\n",
       "    <tr>\n",
       "      <th>6</th>\n",
       "      <td>111565001</td>\n",
       "      <td>111565</td>\n",
       "      <td>20 den 1p Stockings</td>\n",
       "      <td>Underwear Tights</td>\n",
       "      <td>Socks &amp; Tights</td>\n",
       "      <td>Solid</td>\n",
       "      <td>Black</td>\n",
       "      <td>Dark</td>\n",
       "      <td>Black</td>\n",
       "      <td>Tights basic</td>\n",
       "      <td>Lingeries/Tights</td>\n",
       "      <td>Ladieswear</td>\n",
       "      <td>Womens Nightwear, Socks &amp; Tigh</td>\n",
       "      <td>Socks and Tights</td>\n",
       "      <td>Semi shiny nylon stockings with a wide, reinfo...</td>\n",
       "      <td>4911</td>\n",
       "      <td>4911</td>\n",
       "    </tr>\n",
       "    <tr>\n",
       "      <th>7</th>\n",
       "      <td>111565003</td>\n",
       "      <td>111565</td>\n",
       "      <td>20 den 1p Stockings</td>\n",
       "      <td>Socks</td>\n",
       "      <td>Socks &amp; Tights</td>\n",
       "      <td>Solid</td>\n",
       "      <td>Beige</td>\n",
       "      <td>Medium Dusty</td>\n",
       "      <td>Beige</td>\n",
       "      <td>Tights basic</td>\n",
       "      <td>Lingeries/Tights</td>\n",
       "      <td>Ladieswear</td>\n",
       "      <td>Womens Nightwear, Socks &amp; Tigh</td>\n",
       "      <td>Socks and Tights</td>\n",
       "      <td>Semi shiny nylon stockings with a wide, reinfo...</td>\n",
       "      <td>46</td>\n",
       "      <td>46</td>\n",
       "    </tr>\n",
       "    <tr>\n",
       "      <th>8</th>\n",
       "      <td>111586001</td>\n",
       "      <td>111586</td>\n",
       "      <td>Shape Up 30 den 1p Tights</td>\n",
       "      <td>Leggings/Tights</td>\n",
       "      <td>Garment Lower body</td>\n",
       "      <td>Solid</td>\n",
       "      <td>Black</td>\n",
       "      <td>Dark</td>\n",
       "      <td>Black</td>\n",
       "      <td>Tights basic</td>\n",
       "      <td>Lingeries/Tights</td>\n",
       "      <td>Ladieswear</td>\n",
       "      <td>Womens Nightwear, Socks &amp; Tigh</td>\n",
       "      <td>Socks and Tights</td>\n",
       "      <td>Tights with built-in support to lift the botto...</td>\n",
       "      <td>14191</td>\n",
       "      <td>14191</td>\n",
       "    </tr>\n",
       "    <tr>\n",
       "      <th>9</th>\n",
       "      <td>111593001</td>\n",
       "      <td>111593</td>\n",
       "      <td>Support 40 den 1p Tights</td>\n",
       "      <td>Underwear Tights</td>\n",
       "      <td>Socks &amp; Tights</td>\n",
       "      <td>Solid</td>\n",
       "      <td>Black</td>\n",
       "      <td>Dark</td>\n",
       "      <td>Black</td>\n",
       "      <td>Tights basic</td>\n",
       "      <td>Lingeries/Tights</td>\n",
       "      <td>Ladieswear</td>\n",
       "      <td>Womens Nightwear, Socks &amp; Tigh</td>\n",
       "      <td>Socks and Tights</td>\n",
       "      <td>Semi shiny tights that shape the tummy, thighs...</td>\n",
       "      <td>13888</td>\n",
       "      <td>13888</td>\n",
       "    </tr>\n",
       "  </tbody>\n",
       "</table>\n",
       "</div>"
      ],
      "text/plain": [
       "  article_id product_code                  prod_name product_type_name  \\\n",
       "0  108775015       108775                  Strap top          Vest top   \n",
       "1  108775044       108775                  Strap top          Vest top   \n",
       "2  108775051       108775              Strap top (1)          Vest top   \n",
       "3  110065001       110065          OP T-shirt (Idro)               Bra   \n",
       "4  110065002       110065          OP T-shirt (Idro)               Bra   \n",
       "5  110065011       110065          OP T-shirt (Idro)               Bra   \n",
       "6  111565001       111565        20 den 1p Stockings  Underwear Tights   \n",
       "7  111565003       111565        20 den 1p Stockings             Socks   \n",
       "8  111586001       111586  Shape Up 30 den 1p Tights   Leggings/Tights   \n",
       "9  111593001       111593   Support 40 den 1p Tights  Underwear Tights   \n",
       "\n",
       "   product_group_name graphical_appearance_name colour_group_name  \\\n",
       "0  Garment Upper body                     Solid             Black   \n",
       "1  Garment Upper body                     Solid             White   \n",
       "2  Garment Upper body                    Stripe         Off White   \n",
       "3           Underwear                     Solid             Black   \n",
       "4           Underwear                     Solid             White   \n",
       "5           Underwear                     Solid       Light Beige   \n",
       "6      Socks & Tights                     Solid             Black   \n",
       "7      Socks & Tights                     Solid             Beige   \n",
       "8  Garment Lower body                     Solid             Black   \n",
       "9      Socks & Tights                     Solid             Black   \n",
       "\n",
       "  perceived_colour_value_name perceived_colour_master_name department_name  \\\n",
       "0                        Dark                        Black    Jersey Basic   \n",
       "1                       Light                        White    Jersey Basic   \n",
       "2                 Dusty Light                        White    Jersey Basic   \n",
       "3                        Dark                        Black  Clean Lingerie   \n",
       "4                       Light                        White  Clean Lingerie   \n",
       "5                 Dusty Light                        Beige  Clean Lingerie   \n",
       "6                        Dark                        Black    Tights basic   \n",
       "7                Medium Dusty                        Beige    Tights basic   \n",
       "8                        Dark                        Black    Tights basic   \n",
       "9                        Dark                        Black    Tights basic   \n",
       "\n",
       "         index_name index_group_name                    section_name  \\\n",
       "0        Ladieswear       Ladieswear          Womens Everyday Basics   \n",
       "1        Ladieswear       Ladieswear          Womens Everyday Basics   \n",
       "2        Ladieswear       Ladieswear          Womens Everyday Basics   \n",
       "3  Lingeries/Tights       Ladieswear                 Womens Lingerie   \n",
       "4  Lingeries/Tights       Ladieswear                 Womens Lingerie   \n",
       "5  Lingeries/Tights       Ladieswear                 Womens Lingerie   \n",
       "6  Lingeries/Tights       Ladieswear  Womens Nightwear, Socks & Tigh   \n",
       "7  Lingeries/Tights       Ladieswear  Womens Nightwear, Socks & Tigh   \n",
       "8  Lingeries/Tights       Ladieswear  Womens Nightwear, Socks & Tigh   \n",
       "9  Lingeries/Tights       Ladieswear  Womens Nightwear, Socks & Tigh   \n",
       "\n",
       "  garment_group_name                                        detail_desc  \\\n",
       "0       Jersey Basic            Jersey top with narrow shoulder straps.   \n",
       "1       Jersey Basic            Jersey top with narrow shoulder straps.   \n",
       "2       Jersey Basic            Jersey top with narrow shoulder straps.   \n",
       "3  Under-, Nightwear  Microfibre T-shirt bra with underwired, moulde...   \n",
       "4  Under-, Nightwear  Microfibre T-shirt bra with underwired, moulde...   \n",
       "5  Under-, Nightwear  Microfibre T-shirt bra with underwired, moulde...   \n",
       "6   Socks and Tights  Semi shiny nylon stockings with a wide, reinfo...   \n",
       "7   Socks and Tights  Semi shiny nylon stockings with a wide, reinfo...   \n",
       "8   Socks and Tights  Tights with built-in support to lift the botto...   \n",
       "9   Socks and Tights  Semi shiny tights that shape the tummy, thighs...   \n",
       "\n",
       "   total_sales  total_revenue  \n",
       "0        10841          10841  \n",
       "1         7250           7250  \n",
       "2          215            215  \n",
       "3         1044           1044  \n",
       "4          539            539  \n",
       "5         1090           1090  \n",
       "6         4911           4911  \n",
       "7           46             46  \n",
       "8        14191          14191  \n",
       "9        13888          13888  "
      ]
     },
     "execution_count": 30,
     "metadata": {},
     "output_type": "execute_result"
    }
   ],
   "source": [
    "#add revenue data\n",
    "article_revenue = transactions.groupby('article_id').sum()\n",
    "\n",
    "def g(x):\n",
    "    try:\n",
    "        return article_revenue.loc[x]['price']\n",
    "    except:\n",
    "        return 0\n",
    "articles['total_revenue'] = articles['article_id'].apply(f)\n",
    "articles.head(10)"
   ]
  },
  {
   "cell_type": "code",
   "execution_count": 31,
   "id": "5755bc16",
   "metadata": {},
   "outputs": [],
   "source": [
    "top_performers = articles.sort_values(by='total_revenue', ascending=False)\n",
    "articles['bestseller_revenue'] = articles['article_id'].isin(top_performers['article_id']).astype(int) * articles['article_id'].isin(bestsellers['article_id']).astype(int)\n"
   ]
  },
  {
   "cell_type": "code",
   "execution_count": 32,
   "id": "1d52b86c",
   "metadata": {},
   "outputs": [
    {
     "name": "stdout",
     "output_type": "stream",
     "text": [
      "Number of articles that are both bestselling and top performing: 1000\n"
     ]
    }
   ],
   "source": [
    "print(\"Number of articles that are both bestselling and top performing:\", articles['bestseller_revenue'].sum())"
   ]
  },
  {
   "cell_type": "code",
   "execution_count": 33,
   "id": "ffa9826e",
   "metadata": {},
   "outputs": [
    {
     "data": {
      "image/png": "[encoded data removed]",
      "text/plain": [
       "<Figure size 576x360 with 1 Axes>"
      ]
     },
     "metadata": {},
     "output_type": "display_data"
    }
   ],
   "source": [
    "plt.figure(figsize=(8,5))\n",
    "g = sns.countplot(x=\"index_group_name\", \n",
    "                  data=top_performers,\n",
    "                  palette=\"husl\")\n",
    "g.bar_label(g.containers[0])\n",
    "g.tick_params(axis='x', rotation=90)\n",
    "plt.title('Top Performing Articles on H&M')\n",
    "plt.show(g)"
   ]
  },
  {
   "cell_type": "markdown",
   "id": "2e1707c5",
   "metadata": {},
   "source": [
    "##### Again, similar to bestseller, most customers that contribute to the revenue of H&M articles belong to the female demographic. Althpugh H&M produces a lob of Baby articles, none of them contribute to the to performers.\n",
    "##### The distribution is similar to the bestsellers."
   ]
  },
  {
   "cell_type": "markdown",
   "id": "31484115",
   "metadata": {},
   "source": [
    "##### Let's see if the sales and revenues are correlated"
   ]
  },
  {
   "cell_type": "code",
   "execution_count": 34,
   "id": "99613111",
   "metadata": {},
   "outputs": [
    {
     "data": {
      "text/plain": [
       "0.9999999999999999"
      ]
     },
     "execution_count": 34,
     "metadata": {},
     "output_type": "execute_result"
    }
   ],
   "source": [
    "articles['total_sales'].corr(articles['total_revenue'])"
   ]
  },
  {
   "cell_type": "markdown",
   "id": "397f44d1",
   "metadata": {},
   "source": [
    "##### They are strongly correlated"
   ]
  },
  {
   "cell_type": "markdown",
   "id": "2af3d26f",
   "metadata": {},
   "source": [
    "##### Revenue by index_group_name"
   ]
  },
  {
   "cell_type": "code",
   "execution_count": 35,
   "id": "c7a5b4ba",
   "metadata": {},
   "outputs": [
    {
     "data": {
      "text/html": [
       "<div>\n",
       "<style scoped>\n",
       "    .dataframe tbody tr th:only-of-type {\n",
       "        vertical-align: middle;\n",
       "    }\n",
       "\n",
       "    .dataframe tbody tr th {\n",
       "        vertical-align: top;\n",
       "    }\n",
       "\n",
       "    .dataframe thead th {\n",
       "        text-align: right;\n",
       "    }\n",
       "</style>\n",
       "<table border=\"1\" class=\"dataframe\">\n",
       "  <thead>\n",
       "    <tr style=\"text-align: right;\">\n",
       "      <th></th>\n",
       "      <th>index_group_name</th>\n",
       "      <th>total_revenue</th>\n",
       "    </tr>\n",
       "  </thead>\n",
       "  <tbody>\n",
       "    <tr>\n",
       "      <th>0</th>\n",
       "      <td>Baby/Children</td>\n",
       "      <td>1216615</td>\n",
       "    </tr>\n",
       "    <tr>\n",
       "      <th>1</th>\n",
       "      <td>Divided</td>\n",
       "      <td>7135322</td>\n",
       "    </tr>\n",
       "    <tr>\n",
       "      <th>2</th>\n",
       "      <td>Ladieswear</td>\n",
       "      <td>20397998</td>\n",
       "    </tr>\n",
       "    <tr>\n",
       "      <th>3</th>\n",
       "      <td>Menswear</td>\n",
       "      <td>1771016</td>\n",
       "    </tr>\n",
       "    <tr>\n",
       "      <th>4</th>\n",
       "      <td>Sport</td>\n",
       "      <td>1246346</td>\n",
       "    </tr>\n",
       "    <tr>\n",
       "      <th>5</th>\n",
       "      <td>Unknown</td>\n",
       "      <td>0</td>\n",
       "    </tr>\n",
       "  </tbody>\n",
       "</table>\n",
       "</div>"
      ],
      "text/plain": [
       "  index_group_name  total_revenue\n",
       "0    Baby/Children        1216615\n",
       "1          Divided        7135322\n",
       "2       Ladieswear       20397998\n",
       "3         Menswear        1771016\n",
       "4            Sport        1246346\n",
       "5          Unknown              0"
      ]
     },
     "execution_count": 35,
     "metadata": {},
     "output_type": "execute_result"
    }
   ],
   "source": [
    "index_group_revenue = articles[['index_group_name','total_revenue']].groupby('index_group_name').total_revenue.sum().reset_index()\n",
    "index_group_revenue"
   ]
  },
  {
   "cell_type": "code",
   "execution_count": 36,
   "id": "38928828",
   "metadata": {},
   "outputs": [
    {
     "data": {
      "image/png": "[encoded data removed]",
      "text/plain": [
       "<Figure size 720x720 with 1 Axes>"
      ]
     },
     "metadata": {},
     "output_type": "display_data"
    }
   ],
   "source": [
    "plt.figure(figsize = (10,10))\n",
    "colors = sns.color_palette(\"husl\")\n",
    "plt.pie(x = index_group_revenue['total_revenue'], labels = index_group_revenue['index_group_name'], colors=colors, autopct='%1.1f%%')\n",
    "plt.title('Revenue by Index Group')\n",
    "plt.show()"
   ]
  },
  {
   "cell_type": "markdown",
   "id": "dbf0e907",
   "metadata": {},
   "source": [
    "##### Ladieswear and Divident, which are feminine styles contribute 86.7% of the revenue"
   ]
  },
  {
   "cell_type": "markdown",
   "id": "bef0494d",
   "metadata": {},
   "source": [
    "#### #1 bestseller/top performer"
   ]
  },
  {
   "cell_type": "code",
   "execution_count": 37,
   "id": "e0620e59",
   "metadata": {},
   "outputs": [
    {
     "data": {
      "text/plain": [
       "'High-waisted jeans in washed superstretch denim with a zip fly and button, fake front pockets, real back pockets and super-skinny legs.'"
      ]
     },
     "execution_count": 37,
     "metadata": {},
     "output_type": "execute_result"
    }
   ],
   "source": [
    "list(articles[articles['article_id'] == 706016001]['detail_desc'])[0]"
   ]
  },
  {
   "cell_type": "code",
   "execution_count": 38,
   "id": "ab5b0f5e",
   "metadata": {},
   "outputs": [
    {
     "data": {
      "text/plain": [
       "Text(0.5, 1.0, 'Club Member Status')"
      ]
     },
     "execution_count": 38,
     "metadata": {},
     "output_type": "execute_result"
    },
    {
     "data": {
      "image/png": "[encoded data removed]",
      "text/plain": [
       "<Figure size 432x432 with 1 Axes>"
      ]
     },
     "metadata": {},
     "output_type": "display_data"
    }
   ],
   "source": [
    "#Club Member Status\n",
    "pastel_color = sns.color_palette('husl')\n",
    "data = customers.groupby('club_member_status').count()\n",
    "plt.subplots(figsize = (6,6))\n",
    "plt.pie(data.customer_id, labels = data.index, colors = pastel_color, autopct = '%.2f%%')\n",
    "plt.title('Club Member Status')"
   ]
  },
  {
   "cell_type": "markdown",
   "id": "f46e972c",
   "metadata": {},
   "source": [
    "## Transaction Analysis"
   ]
  },
  {
   "cell_type": "code",
   "execution_count": 39,
   "id": "a2bfd072",
   "metadata": {},
   "outputs": [
    {
     "name": "stdout",
     "output_type": "stream",
     "text": [
      "<class 'pandas.core.frame.DataFrame'>\n",
      "RangeIndex: 31788324 entries, 0 to 31788323\n",
      "Data columns (total 5 columns):\n",
      " #   Column            Dtype  \n",
      "---  ------            -----  \n",
      " 0   t_dat             object \n",
      " 1   customer_id       object \n",
      " 2   article_id        int64  \n",
      " 3   price             float64\n",
      " 4   sales_channel_id  int64  \n",
      "dtypes: float64(1), int64(2), object(2)\n",
      "memory usage: 1.2+ GB\n",
      "None\n"
     ]
    }
   ],
   "source": [
    "print(transactions.info())"
   ]
  },
  {
   "cell_type": "code",
   "execution_count": 40,
   "id": "5a5ee06e",
   "metadata": {},
   "outputs": [],
   "source": [
    "import datetime as dt"
   ]
  },
  {
   "cell_type": "code",
   "execution_count": 41,
   "id": "cd825078",
   "metadata": {},
   "outputs": [
    {
     "data": {
      "image/png": "[encoded data removed]",
      "text/plain": [
       "<Figure size 864x576 with 1 Axes>"
      ]
     },
     "metadata": {},
     "output_type": "display_data"
    }
   ],
   "source": [
    "transactions.t_dat = pd.to_datetime(transactions.t_dat)\n",
    "transactions['quarter'] = transactions.t_dat.dt.quarter\n",
    "transactions['year'] = transactions.t_dat.dt.year\n",
    "transactions[['year', 'quarter', 'price']].groupby(['year', 'quarter']).sum().plot(kind='line', color = 'orange', figsize = (12,8))\n",
    "plt.xlabel('Year, Quarter')\n",
    "plt.ylabel('Total Sales')\n",
    "plt.title('Quarterly Sales')\n",
    "plt.show()"
   ]
  },
  {
   "cell_type": "markdown",
   "id": "8d82e69f",
   "metadata": {},
   "source": [
    "##### Q2 generates the most revenue"
   ]
  },
  {
   "cell_type": "markdown",
   "id": "78e8e5c5",
   "metadata": {},
   "source": [
    "#### Number of transactions by index and product categories"
   ]
  },
  {
   "cell_type": "code",
   "execution_count": 42,
   "id": "2bb6a167",
   "metadata": {},
   "outputs": [
    {
     "data": {
      "image/png": "[encoded data removed]",
      "text/plain": [
       "<Figure size 1440x720 with 1 Axes>"
      ]
     },
     "metadata": {},
     "output_type": "display_data"
    }
   ],
   "source": [
    "transactions_articles = transactions.merge(articles[['article_id', \n",
    "                                         'prod_name', \n",
    "                                         'product_group_name',\n",
    "                                         'index_group_name']], \n",
    "                               on = 'article_id', \n",
    "                               how = 'left')\n",
    "sns.set_style(\"darkgrid\")\n",
    "plt.subplots(figsize = (20,10))\n",
    "sns.histplot(data = transactions_articles, \n",
    "             y = 'index_group_name', \n",
    "             hue = 'product_group_name', \n",
    "             multiple = 'stack')\n",
    "plt.xlabel('Number of transactions by Index Product Group')\n",
    "plt.ylabel('Index Group')\n",
    "plt.show()"
   ]
  },
  {
   "cell_type": "markdown",
   "id": "0c50641b",
   "metadata": {},
   "source": [
    "##### The best selling index group is ladieswear. Most of the best selling ladieswear products are upper & lower body garments. Upper & lower body garments are also sold for the rest of the index groups"
   ]
  },
  {
   "cell_type": "markdown",
   "id": "46fbb749",
   "metadata": {},
   "source": [
    "#### Let's look at what kind of customers purchase ladieswear products"
   ]
  },
  {
   "cell_type": "code",
   "execution_count": 43,
   "id": "f1286d4e",
   "metadata": {},
   "outputs": [
    {
     "data": {
      "text/html": [
       "<div>\n",
       "<style scoped>\n",
       "    .dataframe tbody tr th:only-of-type {\n",
       "        vertical-align: middle;\n",
       "    }\n",
       "\n",
       "    .dataframe tbody tr th {\n",
       "        vertical-align: top;\n",
       "    }\n",
       "\n",
       "    .dataframe thead th {\n",
       "        text-align: right;\n",
       "    }\n",
       "</style>\n",
       "<table border=\"1\" class=\"dataframe\">\n",
       "  <thead>\n",
       "    <tr style=\"text-align: right;\">\n",
       "      <th></th>\n",
       "      <th>t_dat</th>\n",
       "      <th>customer_id</th>\n",
       "      <th>article_id</th>\n",
       "      <th>price</th>\n",
       "      <th>sales_channel_id</th>\n",
       "      <th>quarter</th>\n",
       "      <th>year</th>\n",
       "      <th>prod_name</th>\n",
       "      <th>product_group_name</th>\n",
       "      <th>index_group_name</th>\n",
       "      <th>FN</th>\n",
       "      <th>Active</th>\n",
       "      <th>club_member_status</th>\n",
       "      <th>fashion_news_frequency</th>\n",
       "      <th>age</th>\n",
       "      <th>postal_code</th>\n",
       "    </tr>\n",
       "  </thead>\n",
       "  <tbody>\n",
       "    <tr>\n",
       "      <th>0</th>\n",
       "      <td>2018-09-20</td>\n",
       "      <td>000058a12d5b43e67d225668fa1f8d618c13dc232df0ca...</td>\n",
       "      <td>663713001</td>\n",
       "      <td>0.050831</td>\n",
       "      <td>2</td>\n",
       "      <td>3</td>\n",
       "      <td>2018</td>\n",
       "      <td>Atlanta Push Body Harlow</td>\n",
       "      <td>Underwear</td>\n",
       "      <td>Ladieswear</td>\n",
       "      <td>NaN</td>\n",
       "      <td>NaN</td>\n",
       "      <td>ACTIVE</td>\n",
       "      <td>NONE</td>\n",
       "      <td>24.0</td>\n",
       "      <td>64f17e6a330a85798e4998f62d0930d14db8db1c054af6...</td>\n",
       "    </tr>\n",
       "    <tr>\n",
       "      <th>1</th>\n",
       "      <td>2018-09-20</td>\n",
       "      <td>000058a12d5b43e67d225668fa1f8d618c13dc232df0ca...</td>\n",
       "      <td>541518023</td>\n",
       "      <td>0.030492</td>\n",
       "      <td>2</td>\n",
       "      <td>3</td>\n",
       "      <td>2018</td>\n",
       "      <td>Rae Push (Melbourne) 2p</td>\n",
       "      <td>Underwear</td>\n",
       "      <td>Ladieswear</td>\n",
       "      <td>NaN</td>\n",
       "      <td>NaN</td>\n",
       "      <td>ACTIVE</td>\n",
       "      <td>NONE</td>\n",
       "      <td>24.0</td>\n",
       "      <td>64f17e6a330a85798e4998f62d0930d14db8db1c054af6...</td>\n",
       "    </tr>\n",
       "    <tr>\n",
       "      <th>2</th>\n",
       "      <td>2018-09-20</td>\n",
       "      <td>00007d2de826758b65a93dd24ce629ed66842531df6699...</td>\n",
       "      <td>505221004</td>\n",
       "      <td>0.015237</td>\n",
       "      <td>2</td>\n",
       "      <td>3</td>\n",
       "      <td>2018</td>\n",
       "      <td>Inca Jumper</td>\n",
       "      <td>Garment Upper body</td>\n",
       "      <td>Divided</td>\n",
       "      <td>1.0</td>\n",
       "      <td>1.0</td>\n",
       "      <td>ACTIVE</td>\n",
       "      <td>Regularly</td>\n",
       "      <td>32.0</td>\n",
       "      <td>8d6f45050876d059c830a0fe63f1a4c022de279bb68ce3...</td>\n",
       "    </tr>\n",
       "    <tr>\n",
       "      <th>3</th>\n",
       "      <td>2018-09-20</td>\n",
       "      <td>00007d2de826758b65a93dd24ce629ed66842531df6699...</td>\n",
       "      <td>685687003</td>\n",
       "      <td>0.016932</td>\n",
       "      <td>2</td>\n",
       "      <td>3</td>\n",
       "      <td>2018</td>\n",
       "      <td>W YODA KNIT OL OFFER</td>\n",
       "      <td>Garment Upper body</td>\n",
       "      <td>Ladieswear</td>\n",
       "      <td>1.0</td>\n",
       "      <td>1.0</td>\n",
       "      <td>ACTIVE</td>\n",
       "      <td>Regularly</td>\n",
       "      <td>32.0</td>\n",
       "      <td>8d6f45050876d059c830a0fe63f1a4c022de279bb68ce3...</td>\n",
       "    </tr>\n",
       "    <tr>\n",
       "      <th>4</th>\n",
       "      <td>2018-09-20</td>\n",
       "      <td>00007d2de826758b65a93dd24ce629ed66842531df6699...</td>\n",
       "      <td>685687004</td>\n",
       "      <td>0.016932</td>\n",
       "      <td>2</td>\n",
       "      <td>3</td>\n",
       "      <td>2018</td>\n",
       "      <td>W YODA KNIT OL OFFER</td>\n",
       "      <td>Garment Upper body</td>\n",
       "      <td>Ladieswear</td>\n",
       "      <td>1.0</td>\n",
       "      <td>1.0</td>\n",
       "      <td>ACTIVE</td>\n",
       "      <td>Regularly</td>\n",
       "      <td>32.0</td>\n",
       "      <td>8d6f45050876d059c830a0fe63f1a4c022de279bb68ce3...</td>\n",
       "    </tr>\n",
       "    <tr>\n",
       "      <th>5</th>\n",
       "      <td>2018-09-20</td>\n",
       "      <td>00007d2de826758b65a93dd24ce629ed66842531df6699...</td>\n",
       "      <td>685687001</td>\n",
       "      <td>0.016932</td>\n",
       "      <td>2</td>\n",
       "      <td>3</td>\n",
       "      <td>2018</td>\n",
       "      <td>W YODA KNIT OL OFFER</td>\n",
       "      <td>Garment Upper body</td>\n",
       "      <td>Ladieswear</td>\n",
       "      <td>1.0</td>\n",
       "      <td>1.0</td>\n",
       "      <td>ACTIVE</td>\n",
       "      <td>Regularly</td>\n",
       "      <td>32.0</td>\n",
       "      <td>8d6f45050876d059c830a0fe63f1a4c022de279bb68ce3...</td>\n",
       "    </tr>\n",
       "    <tr>\n",
       "      <th>6</th>\n",
       "      <td>2018-09-20</td>\n",
       "      <td>00007d2de826758b65a93dd24ce629ed66842531df6699...</td>\n",
       "      <td>505221001</td>\n",
       "      <td>0.020322</td>\n",
       "      <td>2</td>\n",
       "      <td>3</td>\n",
       "      <td>2018</td>\n",
       "      <td>Inca jumper</td>\n",
       "      <td>Garment Upper body</td>\n",
       "      <td>Divided</td>\n",
       "      <td>1.0</td>\n",
       "      <td>1.0</td>\n",
       "      <td>ACTIVE</td>\n",
       "      <td>Regularly</td>\n",
       "      <td>32.0</td>\n",
       "      <td>8d6f45050876d059c830a0fe63f1a4c022de279bb68ce3...</td>\n",
       "    </tr>\n",
       "    <tr>\n",
       "      <th>7</th>\n",
       "      <td>2018-09-20</td>\n",
       "      <td>00083cda041544b2fbb0e0d2905ad17da7cf1007526fb4...</td>\n",
       "      <td>688873012</td>\n",
       "      <td>0.030492</td>\n",
       "      <td>1</td>\n",
       "      <td>3</td>\n",
       "      <td>2018</td>\n",
       "      <td>Gyda!</td>\n",
       "      <td>Garment Upper body</td>\n",
       "      <td>Ladieswear</td>\n",
       "      <td>NaN</td>\n",
       "      <td>NaN</td>\n",
       "      <td>ACTIVE</td>\n",
       "      <td>NONE</td>\n",
       "      <td>29.0</td>\n",
       "      <td>24e3594738f327e8a7671ec6d1e18b308fb0282e1f7e23...</td>\n",
       "    </tr>\n",
       "    <tr>\n",
       "      <th>8</th>\n",
       "      <td>2018-09-20</td>\n",
       "      <td>00083cda041544b2fbb0e0d2905ad17da7cf1007526fb4...</td>\n",
       "      <td>501323011</td>\n",
       "      <td>0.053373</td>\n",
       "      <td>1</td>\n",
       "      <td>3</td>\n",
       "      <td>2018</td>\n",
       "      <td>Thomas paperbag wide</td>\n",
       "      <td>Garment Lower body</td>\n",
       "      <td>Ladieswear</td>\n",
       "      <td>NaN</td>\n",
       "      <td>NaN</td>\n",
       "      <td>ACTIVE</td>\n",
       "      <td>NONE</td>\n",
       "      <td>29.0</td>\n",
       "      <td>24e3594738f327e8a7671ec6d1e18b308fb0282e1f7e23...</td>\n",
       "    </tr>\n",
       "    <tr>\n",
       "      <th>9</th>\n",
       "      <td>2018-09-20</td>\n",
       "      <td>00083cda041544b2fbb0e0d2905ad17da7cf1007526fb4...</td>\n",
       "      <td>598859003</td>\n",
       "      <td>0.045746</td>\n",
       "      <td>2</td>\n",
       "      <td>3</td>\n",
       "      <td>2018</td>\n",
       "      <td>Fiona Wide</td>\n",
       "      <td>Garment Lower body</td>\n",
       "      <td>Ladieswear</td>\n",
       "      <td>NaN</td>\n",
       "      <td>NaN</td>\n",
       "      <td>ACTIVE</td>\n",
       "      <td>NONE</td>\n",
       "      <td>29.0</td>\n",
       "      <td>24e3594738f327e8a7671ec6d1e18b308fb0282e1f7e23...</td>\n",
       "    </tr>\n",
       "  </tbody>\n",
       "</table>\n",
       "</div>"
      ],
      "text/plain": [
       "       t_dat                                        customer_id article_id  \\\n",
       "0 2018-09-20  000058a12d5b43e67d225668fa1f8d618c13dc232df0ca...  663713001   \n",
       "1 2018-09-20  000058a12d5b43e67d225668fa1f8d618c13dc232df0ca...  541518023   \n",
       "2 2018-09-20  00007d2de826758b65a93dd24ce629ed66842531df6699...  505221004   \n",
       "3 2018-09-20  00007d2de826758b65a93dd24ce629ed66842531df6699...  685687003   \n",
       "4 2018-09-20  00007d2de826758b65a93dd24ce629ed66842531df6699...  685687004   \n",
       "5 2018-09-20  00007d2de826758b65a93dd24ce629ed66842531df6699...  685687001   \n",
       "6 2018-09-20  00007d2de826758b65a93dd24ce629ed66842531df6699...  505221001   \n",
       "7 2018-09-20  00083cda041544b2fbb0e0d2905ad17da7cf1007526fb4...  688873012   \n",
       "8 2018-09-20  00083cda041544b2fbb0e0d2905ad17da7cf1007526fb4...  501323011   \n",
       "9 2018-09-20  00083cda041544b2fbb0e0d2905ad17da7cf1007526fb4...  598859003   \n",
       "\n",
       "      price  sales_channel_id  quarter  year                 prod_name  \\\n",
       "0  0.050831                 2        3  2018  Atlanta Push Body Harlow   \n",
       "1  0.030492                 2        3  2018   Rae Push (Melbourne) 2p   \n",
       "2  0.015237                 2        3  2018               Inca Jumper   \n",
       "3  0.016932                 2        3  2018      W YODA KNIT OL OFFER   \n",
       "4  0.016932                 2        3  2018      W YODA KNIT OL OFFER   \n",
       "5  0.016932                 2        3  2018      W YODA KNIT OL OFFER   \n",
       "6  0.020322                 2        3  2018               Inca jumper   \n",
       "7  0.030492                 1        3  2018                     Gyda!   \n",
       "8  0.053373                 1        3  2018      Thomas paperbag wide   \n",
       "9  0.045746                 2        3  2018                Fiona Wide   \n",
       "\n",
       "   product_group_name index_group_name   FN  Active club_member_status  \\\n",
       "0           Underwear       Ladieswear  NaN     NaN             ACTIVE   \n",
       "1           Underwear       Ladieswear  NaN     NaN             ACTIVE   \n",
       "2  Garment Upper body          Divided  1.0     1.0             ACTIVE   \n",
       "3  Garment Upper body       Ladieswear  1.0     1.0             ACTIVE   \n",
       "4  Garment Upper body       Ladieswear  1.0     1.0             ACTIVE   \n",
       "5  Garment Upper body       Ladieswear  1.0     1.0             ACTIVE   \n",
       "6  Garment Upper body          Divided  1.0     1.0             ACTIVE   \n",
       "7  Garment Upper body       Ladieswear  NaN     NaN             ACTIVE   \n",
       "8  Garment Lower body       Ladieswear  NaN     NaN             ACTIVE   \n",
       "9  Garment Lower body       Ladieswear  NaN     NaN             ACTIVE   \n",
       "\n",
       "  fashion_news_frequency   age  \\\n",
       "0                   NONE  24.0   \n",
       "1                   NONE  24.0   \n",
       "2              Regularly  32.0   \n",
       "3              Regularly  32.0   \n",
       "4              Regularly  32.0   \n",
       "5              Regularly  32.0   \n",
       "6              Regularly  32.0   \n",
       "7                   NONE  29.0   \n",
       "8                   NONE  29.0   \n",
       "9                   NONE  29.0   \n",
       "\n",
       "                                         postal_code  \n",
       "0  64f17e6a330a85798e4998f62d0930d14db8db1c054af6...  \n",
       "1  64f17e6a330a85798e4998f62d0930d14db8db1c054af6...  \n",
       "2  8d6f45050876d059c830a0fe63f1a4c022de279bb68ce3...  \n",
       "3  8d6f45050876d059c830a0fe63f1a4c022de279bb68ce3...  \n",
       "4  8d6f45050876d059c830a0fe63f1a4c022de279bb68ce3...  \n",
       "5  8d6f45050876d059c830a0fe63f1a4c022de279bb68ce3...  \n",
       "6  8d6f45050876d059c830a0fe63f1a4c022de279bb68ce3...  \n",
       "7  24e3594738f327e8a7671ec6d1e18b308fb0282e1f7e23...  \n",
       "8  24e3594738f327e8a7671ec6d1e18b308fb0282e1f7e23...  \n",
       "9  24e3594738f327e8a7671ec6d1e18b308fb0282e1f7e23...  "
      ]
     },
     "execution_count": 43,
     "metadata": {},
     "output_type": "execute_result"
    }
   ],
   "source": [
    "customers_transactions_articles = transactions_articles.merge(customers, on = 'customer_id', how = 'left')\n",
    "customers_transactions_articles.head(10)"
   ]
  },
  {
   "cell_type": "code",
   "execution_count": 44,
   "id": "d6a9bc0a",
   "metadata": {
    "scrolled": true
   },
   "outputs": [],
   "source": [
    "#Age groups\n",
    "def age_categories(age):\n",
    "    if age is None:\n",
    "        return \"unknown\"\n",
    "    elif age >= 60:\n",
    "        return \"above 60\"\n",
    "    elif age <= 59 and age >= 50:\n",
    "        return \"50-59\"\n",
    "    elif age <= 49 and age >= 40:\n",
    "        return \"40-49\"\n",
    "    elif age <= 39 and age >= 30:\n",
    "        return \"30-39\"\n",
    "    elif age <=29 and age >= 21:\n",
    "        return \"21-29\"\n",
    "    else:\n",
    "        return \"below 21\"\n",
    "customers_transactions_articles['ages'] = customers_transactions_articles['age'].map(lambda x: age_categories(x))\n"
   ]
  },
  {
   "cell_type": "code",
   "execution_count": 47,
   "id": "124db33e",
   "metadata": {},
   "outputs": [
    {
     "data": {
      "image/png": "[encoded data removed]",
      "text/plain": [
       "<Figure size 720x720 with 2 Axes>"
      ]
     },
     "metadata": {},
     "output_type": "display_data"
    }
   ],
   "source": [
    "#Index Group vs Customer age\n",
    "data = customers_transactions_articles[['index_group_name', 'ages', 'price']].groupby(['index_group_name','ages']).sum()\n",
    "data = data.unstack().fillna(0)\n",
    "plt.subplots(figsize = (10,10))\n",
    "sns.heatmap(data, cmap=\"Greens\")\n",
    "plt.title(\"Relationship between Index Group and Customer Age\")\n",
    "plt.ylabel(\"Index Group Name\")\n",
    "plt.xlabel(\"Age Group\")\n",
    "plt.show()"
   ]
  },
  {
   "cell_type": "code",
   "execution_count": null,
   "id": "7c4b8577",
   "metadata": {},
   "outputs": [],
   "source": []
  }
 ],
 "metadata": {
  "kernelspec": {
   "display_name": "Python 3 (ipykernel)",
   "language": "python",
   "name": "python3"
  },
  "language_info": {
   "codemirror_mode": {
    "name": "ipython",
    "version": 3
   },
   "file_extension": ".py",
   "mimetype": "text/x-python",
   "name": "python",
   "nbconvert_exporter": "python",
   "pygments_lexer": "ipython3",
   "version": "3.9.7"
  }
 },
 "nbformat": 4,
 "nbformat_minor": 5
}
